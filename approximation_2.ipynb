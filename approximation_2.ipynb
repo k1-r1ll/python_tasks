{
 "cells": [
  {
   "cell_type": "markdown",
   "metadata": {
    "id": "-zOqnEVGugHU"
   },
   "source": [
    "# Section 1\n",
    "\n",
    "With symPy find appropriate polinoms for data sets below. Then explore each result.<br><br><br>\n",
    "а) $(-4; -4268), (-3; -1227), (-1; -17), (1; 17), (3; 1227), (4; 4268)$<br><br>\n",
    "б) $(-4; -16729), (-3; -3999), (-1; 5), (1; 1), (3; 4005), (4; 16735)$\n"
   ]
  },
  {
   "cell_type": "markdown",
   "metadata": {},
   "source": [
    "## Section 1.1: (−4;−4268),(−3;−1227),(−1;−17),(1;17),(3;1227),(4;4268) "
   ]
  },
  {
   "cell_type": "code",
   "execution_count": 1,
   "metadata": {
    "id": "mO8e_U97uxvk"
   },
   "outputs": [],
   "source": [
    "from sympy import *\n",
    "\n",
    "a0, a1, a2, a3, a4, a5 = symbols('a0, a1, a2, a3, a4, a5')"
   ]
  },
  {
   "cell_type": "code",
   "execution_count": 2,
   "metadata": {},
   "outputs": [
    {
     "data": {
      "text/latex": [
       "$\\displaystyle a_{0} - 4 a_{1} + 16 a_{2} - 64 a_{3} + 256 a_{4} - 1024 a_{5} + 4268$"
      ],
      "text/plain": [
       "a0 - 4*a1 + 16*a2 - 64*a3 + 256*a4 - 1024*a5 + 4268"
      ]
     },
     "execution_count": 2,
     "metadata": {},
     "output_type": "execute_result"
    }
   ],
   "source": [
    "eq1 = ((-4)**5)*a5 + ((-4)**4)*a4 + ((-4)**3)*a3 + ((-4)**2)*a2 - 4*a1 + a0 + 4268\n",
    "eq1"
   ]
  },
  {
   "cell_type": "code",
   "execution_count": 3,
   "metadata": {},
   "outputs": [
    {
     "data": {
      "text/latex": [
       "$\\displaystyle a_{0} - 3 a_{1} + 9 a_{2} - 27 a_{3} + 81 a_{4} - 243 a_{5} + 1227$"
      ],
      "text/plain": [
       "a0 - 3*a1 + 9*a2 - 27*a3 + 81*a4 - 243*a5 + 1227"
      ]
     },
     "execution_count": 3,
     "metadata": {},
     "output_type": "execute_result"
    }
   ],
   "source": [
    "eq2 = ((-3)**5)*a5 + ((-3)**4)*a4 + ((-3)**3)*a3 + ((-3)**2)*a2 - 3*a1 + a0 + 1227\n",
    "eq2"
   ]
  },
  {
   "cell_type": "code",
   "execution_count": 4,
   "metadata": {},
   "outputs": [
    {
     "data": {
      "text/latex": [
       "$\\displaystyle a_{0} - a_{1} + a_{2} - a_{3} + a_{4} - a_{5} + 17$"
      ],
      "text/plain": [
       "a0 - a1 + a2 - a3 + a4 - a5 + 17"
      ]
     },
     "execution_count": 4,
     "metadata": {},
     "output_type": "execute_result"
    }
   ],
   "source": [
    "eq3 = ((-1)**5)*a5 + ((-1)**4)*a4 + ((-1)**3)*a3 + ((-1)**2)*a2 - 1*a1 + a0 + 17\n",
    "eq3"
   ]
  },
  {
   "cell_type": "code",
   "execution_count": 5,
   "metadata": {},
   "outputs": [
    {
     "data": {
      "text/latex": [
       "$\\displaystyle a_{0} + a_{1} + a_{2} + a_{3} + a_{4} + a_{5} - 17$"
      ],
      "text/plain": [
       "a0 + a1 + a2 + a3 + a4 + a5 - 17"
      ]
     },
     "execution_count": 5,
     "metadata": {},
     "output_type": "execute_result"
    }
   ],
   "source": [
    "eq4 = ((1)**5)*a5 + ((1)**4)*a4 + ((1)**3)*a3 + ((1)**2)*a2 + 1*a1 + a0 - 17\n",
    "eq4"
   ]
  },
  {
   "cell_type": "code",
   "execution_count": 6,
   "metadata": {},
   "outputs": [
    {
     "data": {
      "text/latex": [
       "$\\displaystyle a_{0} + 3 a_{1} + 9 a_{2} + 27 a_{3} + 81 a_{4} + 243 a_{5} - 1227$"
      ],
      "text/plain": [
       "a0 + 3*a1 + 9*a2 + 27*a3 + 81*a4 + 243*a5 - 1227"
      ]
     },
     "execution_count": 6,
     "metadata": {},
     "output_type": "execute_result"
    }
   ],
   "source": [
    "eq5 = ((3)**5)*a5 + ((3)**4)*a4 + ((3)**3)*a3 + ((3)**2)*a2 + 3*a1 + a0 - 1227\n",
    "eq5"
   ]
  },
  {
   "cell_type": "code",
   "execution_count": 7,
   "metadata": {},
   "outputs": [
    {
     "data": {
      "text/latex": [
       "$\\displaystyle a_{0} + 4 a_{1} + 16 a_{2} + 64 a_{3} + 256 a_{4} + 1024 a_{5} - 4268$"
      ],
      "text/plain": [
       "a0 + 4*a1 + 16*a2 + 64*a3 + 256*a4 + 1024*a5 - 4268"
      ]
     },
     "execution_count": 7,
     "metadata": {},
     "output_type": "execute_result"
    }
   ],
   "source": [
    "eq6 = ((4)**5)*a5 + ((4)**4)*a4 + ((4)**3)*a3 + ((4)**2)*a2 + 4*a1 + a0 - 4268\n",
    "eq6"
   ]
  },
  {
   "cell_type": "code",
   "execution_count": 8,
   "metadata": {},
   "outputs": [
    {
     "data": {
      "text/latex": [
       "$\\displaystyle \\left\\{\\left( 3, \\  0, \\  19, \\  0, \\  -5, \\  0\\right)\\right\\}$"
      ],
      "text/plain": [
       "{(3, 0, 19, 0, -5, 0)}"
      ]
     },
     "execution_count": 8,
     "metadata": {},
     "output_type": "execute_result"
    }
   ],
   "source": [
    "nonlinsolve([eq1, eq2, eq3, eq4, eq5, eq6], [a5, a4, a3, a2, a1, a0])"
   ]
  },
  {
   "cell_type": "code",
   "execution_count": 9,
   "metadata": {},
   "outputs": [
    {
     "data": {
      "text/latex": [
       "$\\displaystyle 3 x^{5} + 19 x^{3} - 5 x$"
      ],
      "text/plain": [
       "3*x**5 + 19*x**3 - 5*x"
      ]
     },
     "execution_count": 9,
     "metadata": {},
     "output_type": "execute_result"
    }
   ],
   "source": [
    "x = Symbol('x')\n",
    "f = 3*x**5 + 19*x**3 - 5*x\n",
    "f"
   ]
  },
  {
   "cell_type": "code",
   "execution_count": 10,
   "metadata": {},
   "outputs": [
    {
     "data": {
      "text/plain": [
       "(-4268, -1227, -17, 17, 1227, 4268)"
      ]
     },
     "execution_count": 10,
     "metadata": {},
     "output_type": "execute_result"
    }
   ],
   "source": [
    "f.subs(x, -4), f.subs(x, -3), f.subs(x, -1), f.subs(x, 1), f.subs(x, 3), f.subs(x, 4)"
   ]
  },
  {
   "cell_type": "code",
   "execution_count": 11,
   "metadata": {},
   "outputs": [],
   "source": [
    "import numpy as np\n",
    "import matplotlib.pyplot as plt\n",
    "from sympy.solvers.inequalities import solve_univariate_inequality"
   ]
  },
  {
   "cell_type": "code",
   "execution_count": 12,
   "metadata": {},
   "outputs": [
    {
     "data": {
      "text/plain": [
       "[<matplotlib.lines.Line2D at 0xaf53010fd0>]"
      ]
     },
     "execution_count": 12,
     "metadata": {},
     "output_type": "execute_result"
    },
    {
     "data": {
      "image/png": "[encoded data removed]",
      "text/plain": [
       "<Figure size 432x288 with 1 Axes>"
      ]
     },
     "metadata": {
      "needs_background": "light"
     },
     "output_type": "display_data"
    }
   ],
   "source": [
    "x_range = np.linspace(-3, 7, num=100)\n",
    "f_res_1 = lambda x: 3*x**5 + 19*x**3 - 5*x\n",
    "plt.scatter([-4, -3, -1, 1, 3, 4], [-4268, -1227, -17, 17, 1227, 4268], c='r')\n",
    "plt.axhline(0, color='black')\n",
    "plt.axvline(0, color='black')\n",
    "plt.plot(x_range, f_res_1(x_range))"
   ]
  },
  {
   "cell_type": "code",
   "execution_count": 13,
   "metadata": {},
   "outputs": [
    {
     "data": {
      "text/plain": [
       "[0,\n",
       " -I*sqrt(19/6 + sqrt(421)/6),\n",
       " I*sqrt(19/6 + sqrt(421)/6),\n",
       " -sqrt(-19/6 + sqrt(421)/6),\n",
       " sqrt(-19/6 + sqrt(421)/6)]"
      ]
     },
     "execution_count": 13,
     "metadata": {},
     "output_type": "execute_result"
    }
   ],
   "source": [
    "f_res_1 = 3*x**5 + 19*x**3 - 5*x\n",
    "solve(f_res_1)"
   ]
  },
  {
   "cell_type": "code",
   "execution_count": 14,
   "metadata": {},
   "outputs": [
    {
     "data": {
      "text/latex": [
       "$\\displaystyle 0$"
      ],
      "text/plain": [
       "0"
      ]
     },
     "execution_count": 14,
     "metadata": {},
     "output_type": "execute_result"
    }
   ],
   "source": [
    "f_res_1.subs(x, 0)"
   ]
  },
  {
   "cell_type": "code",
   "execution_count": 15,
   "metadata": {},
   "outputs": [
    {
     "data": {
      "text/latex": [
       "$\\displaystyle \\left(x < 0 \\wedge - \\sqrt{- \\frac{19}{6} + \\frac{\\sqrt{421}}{6}} < x\\right) \\vee \\left(x < \\infty \\wedge \\sqrt{- \\frac{19}{6} + \\frac{\\sqrt{421}}{6}} < x\\right)$"
      ],
      "text/plain": [
       "((x < oo) & (sqrt(-19/6 + sqrt(421)/6) < x)) | ((x < 0) & (-sqrt(-19/6 + sqrt(421)/6) < x))"
      ]
     },
     "execution_count": 15,
     "metadata": {},
     "output_type": "execute_result"
    }
   ],
   "source": [
    "solve_univariate_inequality(f_res_1>0, x)"
   ]
  },
  {
   "cell_type": "code",
   "execution_count": 16,
   "metadata": {},
   "outputs": [
    {
     "data": {
      "text/latex": [
       "$\\displaystyle \\left(-\\infty < x \\wedge x < - \\sqrt{- \\frac{19}{6} + \\frac{\\sqrt{421}}{6}}\\right) \\vee \\left(0 < x \\wedge x < \\sqrt{- \\frac{19}{6} + \\frac{\\sqrt{421}}{6}}\\right)$"
      ],
      "text/plain": [
       "((0 < x) & (x < sqrt(-19/6 + sqrt(421)/6))) | ((-oo < x) & (x < -sqrt(-19/6 + sqrt(421)/6)))"
      ]
     },
     "execution_count": 16,
     "metadata": {},
     "output_type": "execute_result"
    }
   ],
   "source": [
    "solve_univariate_inequality(f_res_1<0, x)"
   ]
  },
  {
   "cell_type": "code",
   "execution_count": 17,
   "metadata": {},
   "outputs": [
    {
     "data": {
      "text/latex": [
       "$\\displaystyle - 3 x^{5} - 19 x^{3} + 5 x$"
      ],
      "text/plain": [
       "-3*x**5 - 19*x**3 + 5*x"
      ]
     },
     "execution_count": 17,
     "metadata": {},
     "output_type": "execute_result"
    }
   ],
   "source": [
    "f_res_1.subs(x, -x)"
   ]
  },
  {
   "cell_type": "markdown",
   "metadata": {},
   "source": [
    "## Section 1.2: (−4;−16729),(−3;−3999),(−1;5),(1;1),(3;4005),(4;16735)"
   ]
  },
  {
   "cell_type": "code",
   "execution_count": 18,
   "metadata": {},
   "outputs": [],
   "source": [
    "from sympy import *\n",
    "a0, a1, a2, a3, a4, a5 = symbols('a0, a1, a2, a3, a4, a5')"
   ]
  },
  {
   "cell_type": "code",
   "execution_count": 19,
   "metadata": {},
   "outputs": [
    {
     "data": {
      "text/latex": [
       "$\\displaystyle a_{0} - 4 a_{1} + 16 a_{2} - 64 a_{3} + 256 a_{4} - 1024 a_{5} + 16729$"
      ],
      "text/plain": [
       "a0 - 4*a1 + 16*a2 - 64*a3 + 256*a4 - 1024*a5 + 16729"
      ]
     },
     "execution_count": 19,
     "metadata": {},
     "output_type": "execute_result"
    }
   ],
   "source": [
    "eq1 = ((-4)**5)*a5 + ((-4)**4)*a4 + ((-4)**3)*a3 + ((-4)**2)*a2 + (-4)*a1 + a0 + 16729\n",
    "eq1"
   ]
  },
  {
   "cell_type": "code",
   "execution_count": 20,
   "metadata": {},
   "outputs": [
    {
     "data": {
      "text/latex": [
       "$\\displaystyle a_{0} - 3 a_{1} + 9 a_{2} - 27 a_{3} + 81 a_{4} - 243 a_{5} + 3999$"
      ],
      "text/plain": [
       "a0 - 3*a1 + 9*a2 - 27*a3 + 81*a4 - 243*a5 + 3999"
      ]
     },
     "execution_count": 20,
     "metadata": {},
     "output_type": "execute_result"
    }
   ],
   "source": [
    "eq2 = ((-3)**5)*a5 + ((-3)**4)*a4 + ((-3)**3)*a3 + ((-3)**2)*a2 + (-3)*a1 + a0 + 3999\n",
    "eq2"
   ]
  },
  {
   "cell_type": "code",
   "execution_count": 21,
   "metadata": {},
   "outputs": [
    {
     "data": {
      "text/latex": [
       "$\\displaystyle a_{0} - a_{1} + a_{2} - a_{3} + a_{4} - a_{5} - 5$"
      ],
      "text/plain": [
       "a0 - a1 + a2 - a3 + a4 - a5 - 5"
      ]
     },
     "execution_count": 21,
     "metadata": {},
     "output_type": "execute_result"
    }
   ],
   "source": [
    "eq3 = ((-1)**5)*a5 + ((-1)**4)*a4 + ((-1)**3)*a3 + ((-1)**2)*a2 + (-1)*a1 + a0 - 5\n",
    "eq3"
   ]
  },
  {
   "cell_type": "code",
   "execution_count": 22,
   "metadata": {},
   "outputs": [
    {
     "data": {
      "text/latex": [
       "$\\displaystyle a_{0} + a_{1} + a_{2} + a_{3} + a_{4} + a_{5} - 1$"
      ],
      "text/plain": [
       "a0 + a1 + a2 + a3 + a4 + a5 - 1"
      ]
     },
     "execution_count": 22,
     "metadata": {},
     "output_type": "execute_result"
    }
   ],
   "source": [
    "eq4 = ((1)**5)*a5 + ((1)**4)*a4 + ((1)**3)*a3 + ((1)**2)*a2 + (1)*a1 + a0 - 1\n",
    "eq4"
   ]
  },
  {
   "cell_type": "code",
   "execution_count": 23,
   "metadata": {},
   "outputs": [
    {
     "data": {
      "text/latex": [
       "$\\displaystyle a_{0} + 3 a_{1} + 9 a_{2} + 27 a_{3} + 81 a_{4} + 243 a_{5} - 4005$"
      ],
      "text/plain": [
       "a0 + 3*a1 + 9*a2 + 27*a3 + 81*a4 + 243*a5 - 4005"
      ]
     },
     "execution_count": 23,
     "metadata": {},
     "output_type": "execute_result"
    }
   ],
   "source": [
    "eq5 = ((3)**5)*a5 + ((3)**4)*a4 + ((3)**3)*a3 + ((3)**2)*a2 + (3)*a1 + a0 - 4005\n",
    "eq5"
   ]
  },
  {
   "cell_type": "code",
   "execution_count": 24,
   "metadata": {},
   "outputs": [
    {
     "data": {
      "text/latex": [
       "$\\displaystyle a_{0} + 4 a_{1} + 16 a_{2} + 64 a_{3} + 256 a_{4} + 1024 a_{5} - 16735$"
      ],
      "text/plain": [
       "a0 + 4*a1 + 16*a2 + 64*a3 + 256*a4 + 1024*a5 - 16735"
      ]
     },
     "execution_count": 24,
     "metadata": {},
     "output_type": "execute_result"
    }
   ],
   "source": [
    "eq6 = ((4)**5)*a5 + ((4)**4)*a4 + ((4)**3)*a3 + ((4)**2)*a2 + (4)*a1 + a0 - 16735\n",
    "eq6"
   ]
  },
  {
   "cell_type": "code",
   "execution_count": 25,
   "metadata": {},
   "outputs": [
    {
     "data": {
      "text/latex": [
       "$\\displaystyle \\left\\{\\left( 16, \\  0, \\  7, \\  0, \\  -25, \\  3\\right)\\right\\}$"
      ],
      "text/plain": [
       "{(16, 0, 7, 0, -25, 3)}"
      ]
     },
     "execution_count": 25,
     "metadata": {},
     "output_type": "execute_result"
    }
   ],
   "source": [
    "nonlinsolve([eq1, eq2, eq3, eq4, eq5, eq6], [a5, a4, a3, a2, a1, a0])"
   ]
  },
  {
   "cell_type": "code",
   "execution_count": 26,
   "metadata": {},
   "outputs": [
    {
     "data": {
      "text/latex": [
       "$\\displaystyle 16 x^{5} + 7 x^{3} - 25 x + 3$"
      ],
      "text/plain": [
       "16*x**5 + 7*x**3 - 25*x + 3"
      ]
     },
     "execution_count": 26,
     "metadata": {},
     "output_type": "execute_result"
    }
   ],
   "source": [
    "x = Symbol('x')\n",
    "f2 = 16*x**5 + 7*x**3 - 25*x + 3\n",
    "f2"
   ]
  },
  {
   "cell_type": "code",
   "execution_count": 27,
   "metadata": {},
   "outputs": [
    {
     "data": {
      "text/plain": [
       "(-16729, -3999, 5, 1, 4005, 16735)"
      ]
     },
     "execution_count": 27,
     "metadata": {},
     "output_type": "execute_result"
    }
   ],
   "source": [
    "f2.subs(x, -4), f2.subs(x, -3), f2.subs(x, -1), f2.subs(x, 1), f2.subs(x, 3), f2.subs(x, 4)"
   ]
  },
  {
   "cell_type": "code",
   "execution_count": 28,
   "metadata": {},
   "outputs": [],
   "source": [
    "import numpy as np\n",
    "import matplotlib.pyplot as plt\n",
    "from sympy.solvers.inequalities import solve_univariate_inequality"
   ]
  },
  {
   "cell_type": "code",
   "execution_count": 29,
   "metadata": {},
   "outputs": [
    {
     "data": {
      "text/plain": [
       "[<matplotlib.lines.Line2D at 0xaf541b3fd0>]"
      ]
     },
     "execution_count": 29,
     "metadata": {},
     "output_type": "execute_result"
    },
    {
     "data": {
      "image/png": "[encoded data removed]",
      "text/plain": [
       "<Figure size 432x288 with 1 Axes>"
      ]
     },
     "metadata": {
      "needs_background": "light"
     },
     "output_type": "display_data"
    }
   ],
   "source": [
    "x_range = np.linspace(-3, 7, num=100)\n",
    "f_res_2 = lambda x: 16*x**5 + 7*x**3 - 25*x + 3\n",
    "plt.scatter([-4, -3, -1, 1, 3, 4], [-16729, -3999, 5, 1, 4005, 16735], c='r')\n",
    "plt.axhline(0, color='black')\n",
    "plt.axvline(0, color='black')\n",
    "plt.plot(x_range, f_res_2(x_range))"
   ]
  },
  {
   "cell_type": "code",
   "execution_count": 30,
   "metadata": {},
   "outputs": [
    {
     "data": {
      "text/plain": [
       "[CRootOf(16*x**5 + 7*x**3 - 25*x + 3, 0),\n",
       " CRootOf(16*x**5 + 7*x**3 - 25*x + 3, 1),\n",
       " CRootOf(16*x**5 + 7*x**3 - 25*x + 3, 2),\n",
       " CRootOf(16*x**5 + 7*x**3 - 25*x + 3, 3),\n",
       " CRootOf(16*x**5 + 7*x**3 - 25*x + 3, 4)]"
      ]
     },
     "execution_count": 30,
     "metadata": {},
     "output_type": "execute_result"
    }
   ],
   "source": [
    "f_res_2 = 16*x**5 + 7*x**3 - 25*x + 3\n",
    "solve(f_res_2)"
   ]
  },
  {
   "cell_type": "code",
   "execution_count": 31,
   "metadata": {},
   "outputs": [
    {
     "data": {
      "text/latex": [
       "$\\displaystyle 3$"
      ],
      "text/plain": [
       "3"
      ]
     },
     "execution_count": 31,
     "metadata": {},
     "output_type": "execute_result"
    }
   ],
   "source": [
    "f_res_2.subs(x, 0)"
   ]
  },
  {
   "cell_type": "code",
   "execution_count": 32,
   "metadata": {},
   "outputs": [
    {
     "data": {
      "text/latex": [
       "$\\displaystyle \\left(x < \\infty \\wedge \\operatorname{CRootOf} {\\left(16 x^{5} + 7 x^{3} - 25 x + 3, 2\\right)} < x\\right) \\vee \\left(x < \\operatorname{CRootOf} {\\left(16 x^{5} + 7 x^{3} - 25 x + 3, 1\\right)} \\wedge \\operatorname{CRootOf} {\\left(16 x^{5} + 7 x^{3} - 25 x + 3, 0\\right)} < x\\right)$"
      ],
      "text/plain": [
       "((x < oo) & (CRootOf(16*x**5 + 7*x**3 - 25*x + 3, 2) < x)) | ((x < CRootOf(16*x**5 + 7*x**3 - 25*x + 3, 1)) & (CRootOf(16*x**5 + 7*x**3 - 25*x + 3, 0) < x))"
      ]
     },
     "execution_count": 32,
     "metadata": {},
     "output_type": "execute_result"
    }
   ],
   "source": [
    "solve_univariate_inequality(f_res_2>0, x)"
   ]
  },
  {
   "cell_type": "code",
   "execution_count": 33,
   "metadata": {},
   "outputs": [
    {
     "data": {
      "text/latex": [
       "$\\displaystyle \\left(-\\infty < x \\wedge x < \\operatorname{CRootOf} {\\left(16 x^{5} + 7 x^{3} - 25 x + 3, 0\\right)}\\right) \\vee \\left(x < \\operatorname{CRootOf} {\\left(16 x^{5} + 7 x^{3} - 25 x + 3, 2\\right)} \\wedge \\operatorname{CRootOf} {\\left(16 x^{5} + 7 x^{3} - 25 x + 3, 1\\right)} < x\\right)$"
      ],
      "text/plain": [
       "((-oo < x) & (x < CRootOf(16*x**5 + 7*x**3 - 25*x + 3, 0))) | ((x < CRootOf(16*x**5 + 7*x**3 - 25*x + 3, 2)) & (CRootOf(16*x**5 + 7*x**3 - 25*x + 3, 1) < x))"
      ]
     },
     "execution_count": 33,
     "metadata": {},
     "output_type": "execute_result"
    }
   ],
   "source": [
    "solve_univariate_inequality(f_res_2<0, x)"
   ]
  },
  {
   "cell_type": "code",
   "execution_count": 34,
   "metadata": {},
   "outputs": [
    {
     "data": {
      "text/latex": [
       "$\\displaystyle - 16 x^{5} - 7 x^{3} + 25 x + 3$"
      ],
      "text/plain": [
       "-16*x**5 - 7*x**3 + 25*x + 3"
      ]
     },
     "execution_count": 34,
     "metadata": {},
     "output_type": "execute_result"
    }
   ],
   "source": [
    "f_res_2.subs(x, -x)"
   ]
  },
  {
   "cell_type": "markdown",
   "metadata": {
    "id": "4jCUKC9CuyKO"
   },
   "source": [
    "# Section 2"
   ]
  },
  {
   "cell_type": "code",
   "execution_count": 35,
   "metadata": {
    "id": "5ElcKCqet0wk"
   },
   "outputs": [],
   "source": [
    "from sympy import *\n",
    "from sympy.plotting import plot\n",
    "init_printing(use_unicode=False, wrap_line=False, no_global=True)"
   ]
  },
  {
   "cell_type": "code",
   "execution_count": 36,
   "metadata": {
    "id": "QwTY4Sq8t0w2"
   },
   "outputs": [],
   "source": [
    "import matplotlib.pyplot as plt\n",
    "import numpy as np"
   ]
  },
  {
   "cell_type": "code",
   "execution_count": 37,
   "metadata": {
    "id": "Y0t8k28Jt0xG"
   },
   "outputs": [],
   "source": [
    "x = Symbol('x')"
   ]
  },
  {
   "cell_type": "markdown",
   "metadata": {
    "id": "wLhMVWF9t0xQ"
   },
   "source": [
    "## 1.\n",
    "### Get MSE < 5"
   ]
  },
  {
   "cell_type": "code",
   "execution_count": 38,
   "metadata": {
    "id": "LX3-aD49t0xU"
   },
   "outputs": [],
   "source": [
    "def print_points_ands_function1(sympy_function):\n",
    "    def function(x_): return float(sympy_function.subs(x, x_))\n",
    "    \n",
    "    points_X = np.array([-2, -1, 0, 1, 2, 3, 3.5, 4, 4.5, 5])\n",
    "    points_Y = np.array([2, -4, 1, 8, 21, 40, 47, 65, 75, 92])\n",
    "    plt.xlim(-6, 10)\n",
    "    plt.ylim(-1, 100)\n",
    "    \n",
    "    plt.scatter(points_X, points_Y, c='r')\n",
    "    x_range = np.linspace(plt.xlim()[0], plt.xlim()[1], num=100)\n",
    "    function_Y = [function(x_) for x_ in x_range]\n",
    "    plt.plot(x_range, function_Y, 'b')\n",
    "    plt.show()\n",
    "    \n",
    "    MSE = sum([(points_Y[i] - function(points_X[i]))**2 for i in range(len(points_Y))]) / len(points_Y)\n",
    "    print(f'MSE = {MSE}')"
   ]
  },
  {
   "cell_type": "code",
   "execution_count": 40,
   "metadata": {
    "id": "tCcjAV0qt0xb",
    "outputId": "7d73b65e-59f0-4d31-c914-f97d7da81900"
   },
   "outputs": [
    {
     "data": {
      "image/png": "[encoded data removed]",
      "text/latex": [
       "$\\displaystyle 48 x^{2} - 128 x + 83$"
      ],
      "text/plain": [
       "    2             \n",
       "48*x  - 128*x + 83"
      ]
     },
     "execution_count": 40,
     "metadata": {},
     "output_type": "execute_result"
    }
   ],
   "source": [
    "f1 = 48 * x**2 - 128 * x + 83\n",
    "f1"
   ]
  },
  {
   "cell_type": "code",
   "execution_count": 41,
   "metadata": {
    "id": "VQwDN4XLt0xl",
    "outputId": "a46d8327-06b3-4fbc-fa5d-6a1e4648a22e"
   },
   "outputs": [
    {
     "data": {
      "image/png": "[encoded data removed]",
      "text/plain": [
       "<Figure size 432x288 with 1 Axes>"
      ]
     },
     "metadata": {
      "needs_background": "light"
     },
     "output_type": "display_data"
    },
    {
     "name": "stdout",
     "output_type": "stream",
     "text": [
      "MSE = 93691.3\n"
     ]
    }
   ],
   "source": [
    "print_points_ands_function1(f1)"
   ]
  },
  {
   "cell_type": "code",
   "execution_count": 87,
   "metadata": {},
   "outputs": [
    {
     "data": {
      "image/png": "[encoded data removed]",
      "text/plain": [
       "<Figure size 432x288 with 1 Axes>"
      ]
     },
     "metadata": {
      "needs_background": "light"
     },
     "output_type": "display_data"
    },
    {
     "name": "stdout",
     "output_type": "stream",
     "text": [
      "MSE = 4.045279012345677\n"
     ]
    }
   ],
   "source": [
    "f1_new = f1.subs(x, x + 2.2) * 1/18\n",
    "print_points_ands_function1(f1_new)"
   ]
  },
  {
   "cell_type": "markdown",
   "metadata": {
    "id": "HRrtO4Lyt0xt"
   },
   "source": [
    "## 2.\n",
    "### Get MSE < 35"
   ]
  },
  {
   "cell_type": "code",
   "execution_count": 88,
   "metadata": {
    "id": "dm_YVXYgt0xw"
   },
   "outputs": [],
   "source": [
    "def print_points_ands_function2(sympy_function):\n",
    "    def function(x_): return float(sympy_function.subs(x, x_))\n",
    "    \n",
    "    points_X = np.array([-2, -1, 0, 1, 2, 3, 3.5, 4, 4.5, 5])\n",
    "    points_Y = np.array([-31, -9, 4, -1, 9, 24, 47, 92, 120, 170])\n",
    "    plt.xlim(-3, 6)\n",
    "    plt.ylim(-35, 200)\n",
    "    \n",
    "    plt.scatter(points_X, points_Y, c='r')\n",
    "    x_range = np.linspace(plt.xlim()[0], plt.xlim()[1], num=100)\n",
    "    function_Y = [function(x_) for x_ in x_range]\n",
    "    plt.plot(x_range, function_Y, 'b')\n",
    "    plt.show()\n",
    "    \n",
    "    MSE = sum([(points_Y[i] - function(points_X[i]))**2 for i in range(len(points_Y))]) / len(points_Y)\n",
    "    print(f'MSE = {MSE}')"
   ]
  },
  {
   "cell_type": "code",
   "execution_count": 90,
   "metadata": {
    "id": "7LMQiJDKt0x1",
    "outputId": "8b8d6fed-a7c9-4a8d-c9f8-9ace332dd838"
   },
   "outputs": [
    {
     "data": {
      "image/png": "[encoded data removed]",
      "text/latex": [
       "$\\displaystyle 4 x^{3} + 30 x^{2} + 74 x + 62$"
      ],
      "text/plain": [
       "   3       2            \n",
       "4*x  + 30*x  + 74*x + 62"
      ]
     },
     "execution_count": 90,
     "metadata": {},
     "output_type": "execute_result"
    }
   ],
   "source": [
    "f2 = 4 * x**3 + 30 * x**2 + 74 * x + 62\n",
    "f2"
   ]
  },
  {
   "cell_type": "code",
   "execution_count": null,
   "metadata": {
    "id": "SjwUXoCXt0x6",
    "outputId": "a5e8c7e9-602e-430b-acd3-c8c5bd2b055e"
   },
   "outputs": [
    {
     "data": {
      "image/png": "[encoded data removed]",
      "text/plain": [
       "<Figure size 432x288 with 1 Axes>"
      ]
     },
     "metadata": {
      "needs_background": "light",
      "tags": []
     },
     "output_type": "display_data"
    },
    {
     "name": "stdout",
     "output_type": "stream",
     "text": [
      "MSE = 607200.2\n"
     ]
    }
   ],
   "source": [
    "print_points_ands_function2(f2)"
   ]
  },
  {
   "cell_type": "code",
   "execution_count": 103,
   "metadata": {},
   "outputs": [
    {
     "data": {
      "image/png": "[encoded data removed]",
      "text/plain": [
       "<Figure size 432x288 with 1 Axes>"
      ]
     },
     "metadata": {
      "needs_background": "light"
     },
     "output_type": "display_data"
    },
    {
     "name": "stdout",
     "output_type": "stream",
     "text": [
      "MSE = 25.234944000000056\n"
     ]
    }
   ],
   "source": [
    "f2_new = f2.subs(x, x - 3.1) * 0.5\n",
    "print_points_ands_function2(f2_new)"
   ]
  },
  {
   "cell_type": "markdown",
   "metadata": {
    "id": "xYJNX-nUt0x_"
   },
   "source": [
    "## 3.\n",
    "### Get MSE < 3300"
   ]
  },
  {
   "cell_type": "code",
   "execution_count": 104,
   "metadata": {
    "id": "UNLnKjvit0yB"
   },
   "outputs": [],
   "source": [
    "def print_points_ands_function3(sympy_function):\n",
    "    def function(x_): return float(sympy_function.subs(x, x_))\n",
    "    \n",
    "    points_X = np.array([-2, -1, 0, 1, 2, 3, 3.5, 4, 4.5, 5])\n",
    "    points_Y = np.array([60, 25, 4, -0, -57, -195, -295, -540, -700, -760])\n",
    "    plt.xlim(-10, 6)\n",
    "    plt.ylim(-850, 100)\n",
    "    \n",
    "    plt.scatter(points_X, points_Y, c='r')\n",
    "    x_range = np.linspace(plt.xlim()[0], plt.xlim()[1], num=100)\n",
    "    function_Y = [function(x_) for x_ in x_range]\n",
    "    plt.plot(x_range, function_Y, 'b')\n",
    "    plt.show()\n",
    "    \n",
    "    MSE = sum([(points_Y[i] - function(points_X[i]))**2 for i in range(len(points_Y))]) / len(points_Y)\n",
    "    print(f'MSE = {MSE}')"
   ]
  },
  {
   "cell_type": "code",
   "execution_count": 108,
   "metadata": {
    "id": "osbCVOuIt0yH",
    "outputId": "22bfe175-fcf5-4290-9dd1-3b2fc34ff029"
   },
   "outputs": [
    {
     "data": {
      "image/png": "[encoded data removed]",
      "text/latex": [
       "$\\displaystyle - 36 x^{3} - 756 x^{2} - 5334 x - 12636$"
      ],
      "text/plain": [
       "      3        2                 \n",
       "- 36*x  - 756*x  - 5334*x - 12636"
      ]
     },
     "execution_count": 108,
     "metadata": {},
     "output_type": "execute_result"
    }
   ],
   "source": [
    "f3 = -36 * x**3 - 756 * x**2 - 5334 * x - 12636\n",
    "f3"
   ]
  },
  {
   "cell_type": "code",
   "execution_count": 106,
   "metadata": {
    "id": "1T4lJVQPt0yR",
    "outputId": "ab86dbbf-6fd9-42a9-f5ef-6316179ace4f"
   },
   "outputs": [
    {
     "data": {
      "image/png": "[encoded data removed]",
      "text/plain": [
       "<Figure size 432x288 with 1 Axes>"
      ]
     },
     "metadata": {
      "needs_background": "light"
     },
     "output_type": "display_data"
    },
    {
     "name": "stdout",
     "output_type": "stream",
     "text": [
      "MSE = 1346344545.35\n"
     ]
    }
   ],
   "source": [
    "print_points_ands_function3(f3)"
   ]
  },
  {
   "cell_type": "code",
   "execution_count": 125,
   "metadata": {},
   "outputs": [
    {
     "data": {
      "image/png": "[encoded data removed]",
      "text/plain": [
       "<Figure size 432x288 with 1 Axes>"
      ]
     },
     "metadata": {
      "needs_background": "light"
     },
     "output_type": "display_data"
    },
    {
     "name": "stdout",
     "output_type": "stream",
     "text": [
      "MSE = 2373.6300102040686\n"
     ]
    }
   ],
   "source": [
    "f3_new = (1/7 * f3.subs(x, x - 7)) * 1.3\n",
    "print_points_ands_function3(f3_new)"
   ]
  },
  {
   "cell_type": "markdown",
   "metadata": {
    "id": "3jcBH1M3t0yZ"
   },
   "source": [
    "## 4.\n",
    "### Get MSE < 25"
   ]
  },
  {
   "cell_type": "code",
   "execution_count": 126,
   "metadata": {
    "id": "R4nnsc8zt0yb"
   },
   "outputs": [],
   "source": [
    "def print_points_ands_function4(sympy_function):\n",
    "    def function(x_): return float(sympy_function.subs(x, x_))\n",
    "    \n",
    "    points_X = np.array([-2, -1, 0, 1, 2, 3, 3.5, 4, 4.5, 5])\n",
    "    points_Y = np.array([-42, -37, -23, -36, -45, -80, -83, -110, -131, -155])\n",
    "    plt.xlim(-4, 20)\n",
    "    plt.ylim(-160, -10)\n",
    "    \n",
    "    plt.scatter(points_X, points_Y, c='r')\n",
    "    x_range = np.linspace(plt.xlim()[0], plt.xlim()[1], num=100)\n",
    "    function_Y = [function(x_) for x_ in x_range]\n",
    "    plt.plot(x_range, function_Y, 'b')\n",
    "    plt.show()\n",
    "    \n",
    "    MSE = sum([(points_Y[i] - function(points_X[i]))**2 for i in range(len(points_Y))]) / len(points_Y)\n",
    "    print(f'MSE = {MSE}')"
   ]
  },
  {
   "cell_type": "code",
   "execution_count": 128,
   "metadata": {
    "id": "Uq__GcfPt0yj",
    "outputId": "345572d8-35a9-47c2-d7c9-4769bd8d17e7"
   },
   "outputs": [
    {
     "data": {
      "image/png": "[encoded data removed]",
      "text/latex": [
       "$\\displaystyle - 1.25 x^{2} + 25 x - 152$"
      ],
      "text/plain": [
       "        2             \n",
       "- 1.25*x  + 25*x - 152"
      ]
     },
     "execution_count": 128,
     "metadata": {},
     "output_type": "execute_result"
    }
   ],
   "source": [
    "f4 = - 5 / 4 * x**2 + 25 * x - 152\n",
    "f4"
   ]
  },
  {
   "cell_type": "code",
   "execution_count": 129,
   "metadata": {
    "id": "Muwpsp8tt0yp",
    "outputId": "99828dab-4bd6-434b-fdc9-ee8fa9113858"
   },
   "outputs": [
    {
     "data": {
      "image/png": "[encoded data removed]",
      "text/plain": [
       "<Figure size 432x288 with 1 Axes>"
      ]
     },
     "metadata": {
      "needs_background": "light"
     },
     "output_type": "display_data"
    },
    {
     "name": "stdout",
     "output_type": "stream",
     "text": [
      "MSE = 9143.51953125\n"
     ]
    }
   ],
   "source": [
    "print_points_ands_function4(f4)"
   ]
  },
  {
   "cell_type": "code",
   "execution_count": 431,
   "metadata": {
    "id": "oTNLmWfDt0yt"
   },
   "outputs": [
    {
     "data": {
      "image/png": "[encoded data removed]",
      "text/plain": [
       "<Figure size 432x288 with 1 Axes>"
      ]
     },
     "metadata": {
      "needs_background": "light"
     },
     "output_type": "display_data"
    },
    {
     "name": "stdout",
     "output_type": "stream",
     "text": [
      "MSE = 20.3125\n"
     ]
    }
   ],
   "source": [
    "f4_new = f4.subs(x, 2*x + 10)\n",
    "print_points_ands_function4(f4_new)"
   ]
  },
  {
   "cell_type": "code",
   "execution_count": null,
   "metadata": {},
   "outputs": [],
   "source": []
  }
 ],
 "metadata": {
  "colab": {
   "collapsed_sections": [],
   "name": "Аппроксимация и преобразования функций. Домашнее задание.ipynb",
   "provenance": []
  },
  "kernelspec": {
   "display_name": "Python 3 (ipykernel)",
   "language": "python",
   "name": "python3"
  },
  "language_info": {
   "codemirror_mode": {
    "name": "ipython",
    "version": 3
   },
   "file_extension": ".py",
   "mimetype": "text/x-python",
   "name": "python",
   "nbconvert_exporter": "python",
   "pygments_lexer": "ipython3",
   "version": "3.9.7"
  }
 },
 "nbformat": 4,
 "nbformat_minor": 1
}

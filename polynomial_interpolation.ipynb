{
 "cells": [
  {
   "cell_type": "markdown",
   "metadata": {
    "id": "mEFNuokq2MMZ"
   },
   "source": [
    "# Polynomial interpolation. Analytical research of polynomial coefficients\n",
    "\n",
    "Find polynomials which describe the following data sets using SymPy. Then study every polynomial: even/odd, zeroes, constancy intervals. Build the graphs. Show all the zeroes on the graphs.\n",
    "\n",
    "1. $(-2.5, 15.0), (-2, 10), (-1.5, 7.0)$\n",
    "2. $(-0.5, -15.0), (-1, -31), (0, -7), (0.5, -4.0)$\n",
    "3. $(-2, 2), (-1, 1), (0, 0), (1, 1), (2, 2)$\n",
    "4. $(-3, 33), (-2, 31), (-1, 18), (1, -18), (2, -31), (3, -33)$\n"
   ]
  },
  {
   "cell_type": "markdown",
   "metadata": {
    "id": "67VSSj5P12-l"
   },
   "source": [
    "## 1. The First Data Set\n",
    "\n",
    "### 1.1. System of equations and coefficients\n",
    "Polynomial degree: 3 – 1 = 2. The data set is described by cubic function with the following system of equations:\n",
    "\n",
    "\\begin{cases}\n",
    "a_2x_1^2 + a_1x_1 + a_0 – y_1 = 0\\\\\n",
    "a_2x_2^2 + a_1x_2 + a_0 – y_2 = 0\\\\\n",
    "a_2x_3^2 + a_1x_3 + a_0 – y_3 = 0\\\\\n",
    "\\end{cases}\n",
    "\n",
    "\\begin{cases}\n",
    "a_2(-2.5)^2 -2.5a_1 + a_0 - 15.0 = 0\\\\\n",
    "a_2(-2)^2 -2a_1 + a_0 - 10 = 0\\\\\n",
    "a_2(-1.5)^2 -1.5a_1 + a_0 - 7.0 = 0\n",
    "\\end{cases}\n",
    "\n",
    "\\begin{cases}\n",
    "6.25a_2 -2.5a_1 + a_0 - 15.0 = 0\\\\\n",
    "4a_2 -2a_1 + a_0 - 10 = 0\\\\\n",
    "2.25a_2 -1.5a_1 + a_0 - 7.0 = 0\n",
    "\\end{cases}"
   ]
  },
  {
   "cell_type": "code",
   "execution_count": 1,
   "metadata": {},
   "outputs": [],
   "source": [
    "from sympy import *\n",
    "from sympy.plotting import plot\n",
    "init_printing(use_unicode=False, wrap_line=False, no_global=True)"
   ]
  },
  {
   "cell_type": "code",
   "execution_count": 2,
   "metadata": {},
   "outputs": [],
   "source": [
    "a2, a1, a0 = symbols('a2,a1,a0')"
   ]
  },
  {
   "cell_type": "code",
   "execution_count": 3,
   "metadata": {},
   "outputs": [],
   "source": [
    "eq1 = 6.25*a2 - 2.5*a1 + a0 - 15.0\n",
    "eq2 = 4*a2 - 2*a1 + a0 - 10\n",
    "eq3 = 2.25*a2 - 1.5*a1 + a0 - 7.0"
   ]
  },
  {
   "cell_type": "code",
   "execution_count": 5,
   "metadata": {},
   "outputs": [
    {
     "data": {
      "image/png": "[encoded data removed]",
      "text/latex": [
       "$\\displaystyle \\left\\{\\left( 4.0, \\  8.00000000000002, \\  10.0\\right)\\right\\}$"
      ],
      "text/plain": [
       "{(4.0, 8.00000000000002, 10.0)}"
      ]
     },
     "execution_count": 5,
     "metadata": {},
     "output_type": "execute_result"
    }
   ],
   "source": [
    "nonlinsolve([eq1, eq2, eq3], [a2, a1, a0])"
   ]
  },
  {
   "cell_type": "markdown",
   "metadata": {},
   "source": [
    "### 1.2. Checking coefficients"
   ]
  },
  {
   "cell_type": "code",
   "execution_count": 6,
   "metadata": {},
   "outputs": [
    {
     "data": {
      "image/png": "[encoded data removed]",
      "text/latex": [
       "$\\displaystyle 4 x^{2} + 8 x + 10$"
      ],
      "text/plain": [
       "   2           \n",
       "4*x  + 8*x + 10"
      ]
     },
     "execution_count": 6,
     "metadata": {},
     "output_type": "execute_result"
    }
   ],
   "source": [
    "x = Symbol('x')\n",
    "f = 4*x**2 + 8*x + 10\n",
    "f"
   ]
  },
  {
   "cell_type": "code",
   "execution_count": 7,
   "metadata": {},
   "outputs": [
    {
     "data": {
      "image/png": "[encoded data removed]",
      "text/latex": [
       "$\\displaystyle 15.0$"
      ],
      "text/plain": [
       "15.0000000000000"
      ]
     },
     "execution_count": 7,
     "metadata": {},
     "output_type": "execute_result"
    }
   ],
   "source": [
    "f.subs(x, -2.5)"
   ]
  },
  {
   "cell_type": "code",
   "execution_count": 8,
   "metadata": {},
   "outputs": [
    {
     "data": {
      "image/png": "[encoded data removed]",
      "text/latex": [
       "$\\displaystyle 10$"
      ],
      "text/plain": [
       "10"
      ]
     },
     "execution_count": 8,
     "metadata": {},
     "output_type": "execute_result"
    }
   ],
   "source": [
    "f.subs(x, -2)"
   ]
  },
  {
   "cell_type": "code",
   "execution_count": 9,
   "metadata": {},
   "outputs": [
    {
     "data": {
      "image/png": "[encoded data removed]",
      "text/latex": [
       "$\\displaystyle 7.0$"
      ],
      "text/plain": [
       "7.00000000000000"
      ]
     },
     "execution_count": 9,
     "metadata": {},
     "output_type": "execute_result"
    }
   ],
   "source": [
    "f.subs(x, -1.5)"
   ]
  },
  {
   "cell_type": "markdown",
   "metadata": {},
   "source": [
    "**Result:** the coefficients satisfy the values of the data set."
   ]
  },
  {
   "cell_type": "markdown",
   "metadata": {},
   "source": [
    "### 1.3. Building a graph of a function"
   ]
  },
  {
   "cell_type": "code",
   "execution_count": 10,
   "metadata": {},
   "outputs": [
    {
     "data": {
      "text/plain": [
       "[<matplotlib.lines.Line2D at 0x849d208340>]"
      ]
     },
     "execution_count": 10,
     "metadata": {},
     "output_type": "execute_result"
    },
    {
     "data": {
      "image/png": "[encoded data removed]",
      "text/plain": [
       "<Figure size 432x288 with 1 Axes>"
      ]
     },
     "metadata": {
      "needs_background": "light"
     },
     "output_type": "display_data"
    }
   ],
   "source": [
    "import numpy as np\n",
    "import matplotlib.pyplot as plt\n",
    "from sympy.solvers.inequalities import solve_univariate_inequality\n",
    "\n",
    "x_range = np.linspace(-3, 7, num=100)\n",
    "f = lambda x: 4*x**2 + 8*x + 10\n",
    "plt.scatter([-2.5, -2, -1.5], [15.0, 10, 7.0], c='r')\n",
    "plt.axhline(0, color='black')\n",
    "plt.axvline(0, color='black')\n",
    "plt.plot(x_range, f(x_range))\n"
   ]
  },
  {
   "cell_type": "markdown",
   "metadata": {},
   "source": [
    "### 1.4. Further analysis"
   ]
  },
  {
   "cell_type": "markdown",
   "metadata": {},
   "source": [
    "#### 1.4.1. Zero of a function"
   ]
  },
  {
   "cell_type": "code",
   "execution_count": 12,
   "metadata": {},
   "outputs": [
    {
     "data": {
      "image/png": "[encoded data removed]",
      "text/latex": [
       "$\\displaystyle \\left[ -1 - \\frac{\\sqrt{6} i}{2}, \\  -1 + \\frac{\\sqrt{6} i}{2}\\right]$"
      ],
      "text/plain": [
       "        ___           ___   \n",
       "      \\/ 6 *I       \\/ 6 *I \n",
       "[-1 - -------, -1 + -------]\n",
       "         2             2    "
      ]
     },
     "execution_count": 12,
     "metadata": {},
     "output_type": "execute_result"
    }
   ],
   "source": [
    "f = 4*x**2 + 8*x + 10\n",
    "solve(f)"
   ]
  },
  {
   "cell_type": "markdown",
   "metadata": {},
   "source": [
    "#### 1.4.2. Result for x = 0"
   ]
  },
  {
   "cell_type": "code",
   "execution_count": 13,
   "metadata": {},
   "outputs": [
    {
     "data": {
      "image/png": "[encoded data removed]",
      "text/latex": [
       "$\\displaystyle 10$"
      ],
      "text/plain": [
       "10"
      ]
     },
     "execution_count": 13,
     "metadata": {},
     "output_type": "execute_result"
    }
   ],
   "source": [
    "f.subs(x, 0)"
   ]
  },
  {
   "cell_type": "markdown",
   "metadata": {},
   "source": [
    "#### 1.4.3. Constancy intervals"
   ]
  },
  {
   "cell_type": "code",
   "execution_count": 14,
   "metadata": {},
   "outputs": [
    {
     "data": {
      "image/png": "[encoded data removed]",
      "text/latex": [
       "$\\displaystyle -\\infty < x \\wedge x < \\infty$"
      ],
      "text/plain": [
       "And(-oo < x, x < oo)"
      ]
     },
     "execution_count": 14,
     "metadata": {},
     "output_type": "execute_result"
    }
   ],
   "source": [
    "solve_univariate_inequality(f>0, x)"
   ]
  },
  {
   "cell_type": "code",
   "execution_count": 15,
   "metadata": {},
   "outputs": [
    {
     "data": {
      "text/latex": [
       "$\\displaystyle \\text{False}$"
      ],
      "text/plain": [
       "False"
      ]
     },
     "execution_count": 15,
     "metadata": {},
     "output_type": "execute_result"
    }
   ],
   "source": [
    "solve_univariate_inequality(f<0, x)"
   ]
  },
  {
   "cell_type": "markdown",
   "metadata": {},
   "source": [
    "**Result:** the function is positive on the whole set of real numbers."
   ]
  },
  {
   "cell_type": "markdown",
   "metadata": {},
   "source": [
    "#### 1.4.4. Even/odd"
   ]
  },
  {
   "cell_type": "code",
   "execution_count": 16,
   "metadata": {},
   "outputs": [
    {
     "data": {
      "image/png": "[encoded data removed]",
      "text/latex": [
       "$\\displaystyle 40810$"
      ],
      "text/plain": [
       "40810"
      ]
     },
     "execution_count": 16,
     "metadata": {},
     "output_type": "execute_result"
    }
   ],
   "source": [
    "f.subs(x, 100)"
   ]
  },
  {
   "cell_type": "code",
   "execution_count": 17,
   "metadata": {},
   "outputs": [
    {
     "data": {
      "image/png": "[encoded data removed]",
      "text/latex": [
       "$\\displaystyle 39210$"
      ],
      "text/plain": [
       "39210"
      ]
     },
     "execution_count": 17,
     "metadata": {},
     "output_type": "execute_result"
    }
   ],
   "source": [
    "f.subs(x, -100)"
   ]
  },
  {
   "cell_type": "markdown",
   "metadata": {},
   "source": [
    "**Result:** general function."
   ]
  },
  {
   "cell_type": "markdown",
   "metadata": {},
   "source": [
    "## 2. The Second Data Set\n",
    "\n",
    "### 2.1. System of equations and coefficients\n",
    "\n",
    "\n",
    "Polynomial degree: 4 – 1 = 3. The data set is described by cubic function with the following system of equations:\n",
    "\n",
    "\\begin{cases}\n",
    "a_3x_1^3 + a_2x_1^2 + a_1x_1 + a_0 – y_1 = 0\\\\\n",
    "a_3x_2^3 + a_2x_2^2 + a_1x_2 + a_0 – y_2 = 0\\\\\n",
    "a_3x_3^3 + a_2x_3^2 + a_1x_3 + a_0 – y_3 = 0\\\\\n",
    "a_3x_4^3 + a_2x_4^2 + a_1x_4 + a_0 – y_4 = 0\n",
    "\\end{cases}\n",
    "\n",
    "\\begin{cases}\n",
    "a_3(-0.5)^3 + a_2(-0.5)^2 + a_1(-0.5) + a_0 + 15.0 = 0\\\\\n",
    "a_3(-1)^3 + a_2(-1)^2 + a_1(-1) + a_0 + 31 = 0\\\\\n",
    "a_3(0)^3 + a_2(0)^2 + a_1(0) + a_0 + 7 = 0\\\\\n",
    "a_3(0.5)^3 + a_2(0.5)^2 + a_1(0.5) + a_0 + 4.0 = 0\n",
    "\\end{cases}\n",
    "\n",
    "\\begin{cases}\n",
    "-0.125a_3 + 0.25a_2 -0.5a_1 + a_0 + 15.0 = 0\\\\\n",
    "-a_3 + a_2 - a_1 + a_0 + 31 = 0\\\\\n",
    "a_0 + 7 = 0\\\\\n",
    "0.125a_3 + 0.25a_2 + 0.5a_1 + a_0 + 4.0 = 0\n",
    "\\end{cases}"
   ]
  },
  {
   "cell_type": "code",
   "execution_count": 18,
   "metadata": {},
   "outputs": [],
   "source": [
    "a3, a2, a1, a0 = symbols('a3,a2,a1,a0')"
   ]
  },
  {
   "cell_type": "code",
   "execution_count": 19,
   "metadata": {},
   "outputs": [],
   "source": [
    "eq1 = -0.125*a3 + 0.25*a2 - 0.5*a1 + a0 + 15.0\n",
    "eq2 = -a3 + a2 - a1 + a0 + 31\n",
    "eq3 = a0 + 7\n",
    "eq4 = 0.125*a3 + 0.25*a2 + 0.5*a1 + a0 + 4.0"
   ]
  },
  {
   "cell_type": "code",
   "execution_count": 20,
   "metadata": {},
   "outputs": [
    {
     "data": {
      "image/png": "[encoded data removed]",
      "text/latex": [
       "$\\displaystyle \\left\\{\\left( 4.0, \\  -10.0, \\  10.0, \\  -7.0\\right)\\right\\}$"
      ],
      "text/plain": [
       "{(4.0, -10.0, 10.0, -7.0)}"
      ]
     },
     "execution_count": 20,
     "metadata": {},
     "output_type": "execute_result"
    }
   ],
   "source": [
    "nonlinsolve([eq1, eq2, eq3, eq4], [a3, a2, a1, a0])"
   ]
  },
  {
   "cell_type": "markdown",
   "metadata": {},
   "source": [
    "### 2.2. Checking coefficients\n"
   ]
  },
  {
   "cell_type": "code",
   "execution_count": 21,
   "metadata": {},
   "outputs": [
    {
     "data": {
      "image/png": "[encoded data removed]",
      "text/latex": [
       "$\\displaystyle 4.0 x^{3} - 10.0 x^{2} + 10.0 x - 7.0$"
      ],
      "text/plain": [
       "     3         2               \n",
       "4.0*x  - 10.0*x  + 10.0*x - 7.0"
      ]
     },
     "execution_count": 21,
     "metadata": {},
     "output_type": "execute_result"
    }
   ],
   "source": [
    "x = Symbol('x')\n",
    "f = 4.0*x**3 - 10.0*x**2 + 10.0*x - 7.0\n",
    "f"
   ]
  },
  {
   "cell_type": "code",
   "execution_count": 22,
   "metadata": {},
   "outputs": [
    {
     "data": {
      "image/png": "[encoded data removed]",
      "text/latex": [
       "$\\displaystyle -15.0$"
      ],
      "text/plain": [
       "-15.0000000000000"
      ]
     },
     "execution_count": 22,
     "metadata": {},
     "output_type": "execute_result"
    }
   ],
   "source": [
    "f.subs(x, -0.5)"
   ]
  },
  {
   "cell_type": "code",
   "execution_count": 23,
   "metadata": {},
   "outputs": [
    {
     "data": {
      "image/png": "[encoded data removed]",
      "text/latex": [
       "$\\displaystyle -31.0$"
      ],
      "text/plain": [
       "-31.0000000000000"
      ]
     },
     "execution_count": 23,
     "metadata": {},
     "output_type": "execute_result"
    }
   ],
   "source": [
    "f.subs(x, -1)"
   ]
  },
  {
   "cell_type": "code",
   "execution_count": 24,
   "metadata": {},
   "outputs": [
    {
     "data": {
      "image/png": "[encoded data removed]",
      "text/latex": [
       "$\\displaystyle -7.0$"
      ],
      "text/plain": [
       "-7.00000000000000"
      ]
     },
     "execution_count": 24,
     "metadata": {},
     "output_type": "execute_result"
    }
   ],
   "source": [
    "f.subs(x, 0)"
   ]
  },
  {
   "cell_type": "code",
   "execution_count": 25,
   "metadata": {},
   "outputs": [
    {
     "data": {
      "image/png": "[encoded data removed]",
      "text/latex": [
       "$\\displaystyle -4.0$"
      ],
      "text/plain": [
       "-4.00000000000000"
      ]
     },
     "execution_count": 25,
     "metadata": {},
     "output_type": "execute_result"
    }
   ],
   "source": [
    "f.subs(x, 0.5)"
   ]
  },
  {
   "cell_type": "markdown",
   "metadata": {},
   "source": [
    "**Result:** the coefficients satisfy the values of the data set."
   ]
  },
  {
   "cell_type": "markdown",
   "metadata": {},
   "source": [
    "### 2.3. Building a graph of a function"
   ]
  },
  {
   "cell_type": "code",
   "execution_count": 26,
   "metadata": {},
   "outputs": [
    {
     "data": {
      "text/plain": [
       "[<matplotlib.lines.Line2D at 0x8498a6c910>]"
      ]
     },
     "execution_count": 26,
     "metadata": {},
     "output_type": "execute_result"
    },
    {
     "data": {
      "image/png": "[encoded data removed]",
      "text/plain": [
       "<Figure size 432x288 with 1 Axes>"
      ]
     },
     "metadata": {
      "needs_background": "light"
     },
     "output_type": "display_data"
    }
   ],
   "source": [
    "import numpy as np\n",
    "import matplotlib.pyplot as plt\n",
    "from sympy.solvers.inequalities import solve_univariate_inequality\n",
    "\n",
    "x_range = np.linspace(-2, 5, 100)\n",
    "f = lambda x: 4.0*x**3 - 10.0*x**2 + 10.0*x - 7.0\n",
    "plt.scatter([-0.5, -1, 0, 0.5], [-15.0, -31, -7, -4.0], c='r')\n",
    "plt.axhline(0, color='black')\n",
    "plt.axvline(0, color='black')\n",
    "plt.plot(x_range, f(x_range))"
   ]
  },
  {
   "cell_type": "markdown",
   "metadata": {},
   "source": [
    "### 2.4. Further analysis"
   ]
  },
  {
   "cell_type": "markdown",
   "metadata": {},
   "source": [
    "#### 2.4.1. Zero of a function"
   ]
  },
  {
   "cell_type": "code",
   "execution_count": 28,
   "metadata": {},
   "outputs": [
    {
     "data": {
      "image/png": "[encoded data removed]",
      "text/latex": [
       "$\\displaystyle \\left[ 1.62414891114227, \\  0.437925544428863 - 0.941120940817721 i, \\  0.437925544428863 + 0.941120940817721 i\\right]$"
      ],
      "text/plain": [
       "[1.62414891114227, 0.437925544428863 - 0.941120940817721*I, 0.437925544428863 + 0.941120940817721*I]"
      ]
     },
     "execution_count": 28,
     "metadata": {},
     "output_type": "execute_result"
    }
   ],
   "source": [
    "f = 4.0*x**3 - 10.0*x**2 + 10.0*x - 7.0\n",
    "solve(f)"
   ]
  },
  {
   "cell_type": "markdown",
   "metadata": {},
   "source": [
    "#### 2.4.2. Result for x = 0"
   ]
  },
  {
   "cell_type": "code",
   "execution_count": 29,
   "metadata": {},
   "outputs": [
    {
     "data": {
      "image/png": "[encoded data removed]",
      "text/latex": [
       "$\\displaystyle -7.0$"
      ],
      "text/plain": [
       "-7.00000000000000"
      ]
     },
     "execution_count": 29,
     "metadata": {},
     "output_type": "execute_result"
    }
   ],
   "source": [
    "f.subs(x, 0)"
   ]
  },
  {
   "cell_type": "markdown",
   "metadata": {},
   "source": [
    "#### 2.4.3. Constancy intervals"
   ]
  },
  {
   "cell_type": "code",
   "execution_count": 30,
   "metadata": {},
   "outputs": [
    {
     "data": {
      "image/png": "[encoded data removed]",
      "text/latex": [
       "$\\displaystyle 1.62414891114227 < x \\wedge x < \\infty$"
      ],
      "text/plain": [
       "And(1.62414891114227 < x, x < oo)"
      ]
     },
     "execution_count": 30,
     "metadata": {},
     "output_type": "execute_result"
    }
   ],
   "source": [
    "solve_univariate_inequality(f>0, x)"
   ]
  },
  {
   "cell_type": "code",
   "execution_count": 31,
   "metadata": {},
   "outputs": [
    {
     "data": {
      "image/png": "[encoded data removed]",
      "text/latex": [
       "$\\displaystyle -\\infty < x \\wedge x < 1.62414891114227$"
      ],
      "text/plain": [
       "And(-oo < x, x < 1.62414891114227)"
      ]
     },
     "execution_count": 31,
     "metadata": {},
     "output_type": "execute_result"
    }
   ],
   "source": [
    "solve_univariate_inequality(f<0, x)"
   ]
  },
  {
   "cell_type": "markdown",
   "metadata": {},
   "source": [
    "#### 2.4.4. Even/odd"
   ]
  },
  {
   "cell_type": "code",
   "execution_count": 32,
   "metadata": {},
   "outputs": [
    {
     "data": {
      "image/png": "[encoded data removed]",
      "text/latex": [
       "$\\displaystyle 3900993.0$"
      ],
      "text/plain": [
       "3900993.00000000"
      ]
     },
     "execution_count": 32,
     "metadata": {},
     "output_type": "execute_result"
    }
   ],
   "source": [
    "f.subs(x, 100)"
   ]
  },
  {
   "cell_type": "code",
   "execution_count": 33,
   "metadata": {},
   "outputs": [
    {
     "data": {
      "image/png": "[encoded data removed]",
      "text/latex": [
       "$\\displaystyle -4101007.0$"
      ],
      "text/plain": [
       "-4101007.00000000"
      ]
     },
     "execution_count": 33,
     "metadata": {},
     "output_type": "execute_result"
    }
   ],
   "source": [
    "f.subs(x, -100)"
   ]
  },
  {
   "cell_type": "markdown",
   "metadata": {},
   "source": [
    "**Result:** general function."
   ]
  },
  {
   "cell_type": "markdown",
   "metadata": {},
   "source": [
    "## 3. The Third Data Set\n",
    "### 3.1. System of equations and coefficients\n",
    "\n",
    "Polynomial degree: 5 – 1 = 4. The data set is described by the following system of equations:\n",
    "\n",
    "\\begin{cases}\n",
    "    a_4x_1^4 + a_3x_1^3 + a_2x_1^2 + a_1x_1 + a_0 - y_1 = 0\\\\\n",
    "    a_4x_2^4 + a_3x_2^3 + a_2x_2^2 + a_1x_2 + a_0 - y_2 = 0\\\\\n",
    "    a_4x_3^4 + a_3x_3^3 + a_2x_3^2 + a_1x_3 + a_0 - y_3 = 0\\\\\n",
    "    a_4x_4^4 + a_3x_4^3 + a_2x_4^2 + a_1x_4 + a_0 - y_4 = 0\\\\\n",
    "    a_4x_5^4 + a_3x_5^3 + a_2x_5^2 + a_1x_5 + a_0 - y_5 = 0\n",
    "\\end{cases}\n",
    "\n",
    "\\begin{cases}\n",
    "    a_4(-2)^4 + a_3(-2)^3 + a_2(-2)^2 + a_1(-2) + a_0 - 2 = 0\\\\\n",
    "    a_4(-1)^4 + a_3(-1)^3 + a_2(-1)^2 + a_1(-1) + a_0 - 1 = 0\\\\\n",
    "    a_40^4 + a_30^3 + a_20^2 + a_10 + a_0 - 0 = 0\\\\\n",
    "    a_4(1)^4 + a_3(1)^3 + a_2(1)^2 + a_1(1) + a_0 - 1 = 0\\\\\n",
    "    a_4(2)^4 + a_3(2)^3 + a_2(2)^2 + a_1(2) + a_0 - 2 = 0\n",
    "\\end{cases}\n",
    "\n",
    "\\begin{cases}\n",
    "    16a_4 - 8a_3 + 4a_2 - 2a_1 + a_0 - 2 = 0\\\\\n",
    "    a_4 - a_3 + a_2 - a_1 + a_0 - 1 = 0\\\\\n",
    "    a_0 = 0\\\\\n",
    "    a_4 + a_3 + a_2 + a_1 + a_0 - 1 = 0\\\\\n",
    "    16a_4 + 8a_3 + 4a_2 + 2a_1 + a_0 - 2 = 0\n",
    "\\end{cases}"
   ]
  },
  {
   "cell_type": "code",
   "execution_count": 34,
   "metadata": {},
   "outputs": [],
   "source": [
    "a4, a3, a2, a1, a0 = symbols('a4,a3,a2,a1,a0')"
   ]
  },
  {
   "cell_type": "code",
   "execution_count": 35,
   "metadata": {},
   "outputs": [],
   "source": [
    "eq1 = 16*a4 - 8*a3 + 4*a2 - 2*a1 + a0 - 2\n",
    "eq2 = a4 - a3 + a2 - a1 + a0 - 1\n",
    "eq3 = a0\n",
    "eq4 = a4 + a3 + a2 + a1 + a0 - 1\n",
    "eq5 = 16*a4 + 8*a3 + 4*a2 + 2*a1 + a0 - 2"
   ]
  },
  {
   "cell_type": "code",
   "execution_count": 36,
   "metadata": {},
   "outputs": [
    {
     "data": {
      "image/png": "[encoded data removed]",
      "text/latex": [
       "$\\displaystyle \\left\\{\\left( - \\frac{1}{6}, \\  0, \\  \\frac{7}{6}, \\  0, \\  0\\right)\\right\\}$"
      ],
      "text/plain": [
       "{(-1/6, 0, 7/6, 0, 0)}"
      ]
     },
     "execution_count": 36,
     "metadata": {},
     "output_type": "execute_result"
    }
   ],
   "source": [
    "nonlinsolve([eq1, eq2, eq3, eq4, eq5], [a4, a3, a2, a1, a0])"
   ]
  },
  {
   "cell_type": "markdown",
   "metadata": {},
   "source": [
    "### 3.2. Checking coefficients"
   ]
  },
  {
   "cell_type": "code",
   "execution_count": 37,
   "metadata": {},
   "outputs": [
    {
     "data": {
      "image/png": "[encoded data removed]",
      "text/latex": [
       "$\\displaystyle - 0.166666666666667 x^{4} + 1.16666666666667 x^{2}$"
      ],
      "text/plain": [
       "                     4                     2\n",
       "- 0.166666666666667*x  + 1.16666666666667*x "
      ]
     },
     "execution_count": 37,
     "metadata": {},
     "output_type": "execute_result"
    }
   ],
   "source": [
    "x = Symbol('x')\n",
    "f = (-1/6)*x**4 + (7/6)*x**2\n",
    "f"
   ]
  },
  {
   "cell_type": "code",
   "execution_count": 38,
   "metadata": {},
   "outputs": [
    {
     "data": {
      "image/png": "[encoded data removed]",
      "text/latex": [
       "$\\displaystyle 2.0$"
      ],
      "text/plain": [
       "2.00000000000000"
      ]
     },
     "execution_count": 38,
     "metadata": {},
     "output_type": "execute_result"
    }
   ],
   "source": [
    "f.subs(x, -2)"
   ]
  },
  {
   "cell_type": "code",
   "execution_count": 39,
   "metadata": {},
   "outputs": [
    {
     "data": {
      "image/png": "[encoded data removed]",
      "text/latex": [
       "$\\displaystyle 1.0$"
      ],
      "text/plain": [
       "1.00000000000000"
      ]
     },
     "execution_count": 39,
     "metadata": {},
     "output_type": "execute_result"
    }
   ],
   "source": [
    "f.subs(x, -1)"
   ]
  },
  {
   "cell_type": "code",
   "execution_count": 40,
   "metadata": {},
   "outputs": [
    {
     "data": {
      "image/png": "[encoded data removed]",
      "text/latex": [
       "$\\displaystyle 0$"
      ],
      "text/plain": [
       "0"
      ]
     },
     "execution_count": 40,
     "metadata": {},
     "output_type": "execute_result"
    }
   ],
   "source": [
    "f.subs(x, 0)"
   ]
  },
  {
   "cell_type": "code",
   "execution_count": 41,
   "metadata": {},
   "outputs": [
    {
     "data": {
      "image/png": "[encoded data removed]",
      "text/latex": [
       "$\\displaystyle 1.0$"
      ],
      "text/plain": [
       "1.00000000000000"
      ]
     },
     "execution_count": 41,
     "metadata": {},
     "output_type": "execute_result"
    }
   ],
   "source": [
    "f.subs(x, 1)"
   ]
  },
  {
   "cell_type": "code",
   "execution_count": 42,
   "metadata": {},
   "outputs": [
    {
     "data": {
      "image/png": "[encoded data removed]",
      "text/latex": [
       "$\\displaystyle 2.0$"
      ],
      "text/plain": [
       "2.00000000000000"
      ]
     },
     "execution_count": 42,
     "metadata": {},
     "output_type": "execute_result"
    }
   ],
   "source": [
    "f.subs(x, 2)"
   ]
  },
  {
   "cell_type": "markdown",
   "metadata": {},
   "source": [
    "**Result:** the coefficients satisfy the values of the data set."
   ]
  },
  {
   "cell_type": "markdown",
   "metadata": {},
   "source": [
    "### 3.3. Building a graph of a function"
   ]
  },
  {
   "cell_type": "code",
   "execution_count": 43,
   "metadata": {},
   "outputs": [
    {
     "data": {
      "text/plain": [
       "[<matplotlib.lines.Line2D at 0x849dacf670>]"
      ]
     },
     "execution_count": 43,
     "metadata": {},
     "output_type": "execute_result"
    },
    {
     "data": {
      "image/png": "[encoded data removed]",
      "text/plain": [
       "<Figure size 432x288 with 1 Axes>"
      ]
     },
     "metadata": {
      "needs_background": "light"
     },
     "output_type": "display_data"
    }
   ],
   "source": [
    "x_range = np.linspace(-3, 7, num=100)\n",
    "f = lambda x: (-1/6)*x**4 + (7/6)*x**2\n",
    "plt.scatter([-2, -1, 0, 1, 2], [2, 1, 0, 1, 2], c='r')\n",
    "plt.axhline(0, color='black')\n",
    "plt.axvline(0, color='black')\n",
    "plt.plot(x_range, f(x_range))"
   ]
  },
  {
   "cell_type": "markdown",
   "metadata": {},
   "source": [
    "### 3.4. Further analysis"
   ]
  },
  {
   "cell_type": "markdown",
   "metadata": {},
   "source": [
    "#### 3.4.1. Zero of a function"
   ]
  },
  {
   "cell_type": "code",
   "execution_count": 45,
   "metadata": {},
   "outputs": [
    {
     "data": {
      "image/png": "[encoded data removed]",
      "text/latex": [
       "$\\displaystyle \\left[ -2.64575131106459, \\  0.0, \\  2.64575131106459\\right]$"
      ],
      "text/plain": [
       "[-2.64575131106459, 0.0, 2.64575131106459]"
      ]
     },
     "execution_count": 45,
     "metadata": {},
     "output_type": "execute_result"
    }
   ],
   "source": [
    "f = (-1/6)*x**4 + (7/6)*x**2\n",
    "solve(f)"
   ]
  },
  {
   "cell_type": "markdown",
   "metadata": {},
   "source": [
    "#### 3.4.2. Result for x = 0"
   ]
  },
  {
   "cell_type": "code",
   "execution_count": 46,
   "metadata": {},
   "outputs": [
    {
     "data": {
      "image/png": "[encoded data removed]",
      "text/latex": [
       "$\\displaystyle 0$"
      ],
      "text/plain": [
       "0"
      ]
     },
     "execution_count": 46,
     "metadata": {},
     "output_type": "execute_result"
    }
   ],
   "source": [
    "f.subs(x, 0)"
   ]
  },
  {
   "cell_type": "markdown",
   "metadata": {},
   "source": [
    "#### 3.4.3. Constancy intervals"
   ]
  },
  {
   "cell_type": "code",
   "execution_count": 47,
   "metadata": {},
   "outputs": [
    {
     "data": {
      "image/png": "[encoded data removed]",
      "text/latex": [
       "$\\displaystyle x > -2.64575131106459 \\wedge x < 2.64575131106459 \\wedge x \\neq 0$"
      ],
      "text/plain": [
       "And(x > -2.64575131106459, x < 2.64575131106459, x != 0)"
      ]
     },
     "execution_count": 47,
     "metadata": {},
     "output_type": "execute_result"
    }
   ],
   "source": [
    "solve_univariate_inequality(f>0, x)"
   ]
  },
  {
   "cell_type": "code",
   "execution_count": 48,
   "metadata": {},
   "outputs": [
    {
     "data": {
      "image/png": "[encoded data removed]",
      "text/latex": [
       "$\\displaystyle \\left(-\\infty < x \\wedge x < -2.64575131106459\\right) \\vee \\left(2.64575131106459 < x \\wedge x < \\infty\\right)$"
      ],
      "text/plain": [
       "Or(And(-oo < x, x < -2.64575131106459), And(2.64575131106459 < x, x < oo))"
      ]
     },
     "execution_count": 48,
     "metadata": {},
     "output_type": "execute_result"
    }
   ],
   "source": [
    "solve_univariate_inequality(f<0, x)"
   ]
  },
  {
   "cell_type": "markdown",
   "metadata": {},
   "source": [
    "#### 3.4.4. Even/odd"
   ]
  },
  {
   "cell_type": "code",
   "execution_count": 49,
   "metadata": {},
   "outputs": [
    {
     "data": {
      "image/png": "[encoded data removed]",
      "text/latex": [
       "$\\displaystyle -16655000.0$"
      ],
      "text/plain": [
       "-16655000.0000000"
      ]
     },
     "execution_count": 49,
     "metadata": {},
     "output_type": "execute_result"
    }
   ],
   "source": [
    "f.subs(x, 100)"
   ]
  },
  {
   "cell_type": "code",
   "execution_count": 50,
   "metadata": {},
   "outputs": [
    {
     "data": {
      "image/png": "[encoded data removed]",
      "text/latex": [
       "$\\displaystyle -16655000.0$"
      ],
      "text/plain": [
       "-16655000.0000000"
      ]
     },
     "execution_count": 50,
     "metadata": {},
     "output_type": "execute_result"
    }
   ],
   "source": [
    "f.subs(x, -100)"
   ]
  },
  {
   "cell_type": "markdown",
   "metadata": {},
   "source": [
    "**Result:** even function."
   ]
  },
  {
   "cell_type": "markdown",
   "metadata": {},
   "source": [
    "## 4. The Fourth Data Set\n",
    "### 4.1. System of equations and coefficients\n",
    "\n",
    "Polynomial degree: 6 – 1 = 5. The data set is described by the following system of equations:\n",
    "\n",
    "\\begin{cases}\n",
    "a_5x_1^5 + a_4x_1^4 + a_3x_1^3 + a_2x_1^2 + a_1x_1 + a_0 − y_1 = 0\\\\\n",
    "a_5x_2^5 + a_4x_2^4 + a_3x_2^3 + a_2x_2^2 + a_1x_2 + a_0 − y_2 = 0\\\\\n",
    "a_5x_3^5 + a_4x_3^4 + a_3x_3^3 + a_2x_3^2 + a_1x_3 + a_0 − y_3 = 0\\\\\n",
    "a_5x_4^5 + a_4x_4^4 + a_3x_4^3 + a_2x_4^2 + a_1x_4 + a_0 − y_4 = 0\\\\\n",
    "a_5x_5^5 + a_4x_5^4 + a_3x_5^3 + a_2x_5^2 + a_1x_5 + a_0 − y_5 = 0\\\\\n",
    "a_5x_6^5 + a_4x_6^4 + a_3x_6^3 + a_2x_6^2 + a_1x_6 + a_0 − y_6 = 0\\\\\n",
    "\\end{cases}\n",
    "\n",
    "\\begin{cases}\n",
    "a_5(–3)^5 + a_4(–3)^4 + a_3(–3)^3 + a_2(–3)^2 + a_1(–3) + a_0 − 33 = 0\\\\\n",
    "a_5(–2)^5 + a_4(–2)^4 + a_3(–2)^3 + a_2(–2)^2 + a_1(–2) + a_0 − 31 = 0\\\\\n",
    "a_5(–1)^5 + a_4(–1)^4 + a_3(–1)^3 + a_2(–1)^2 + a_1(–1) + a_0 − 18 = 0\\\\\n",
    "a_5(1)^5 + a_4(1)^4 + a_3(1)^3 + a_2(1)^2 + a_1(1) + a_0 + 18 = 0\\\\\n",
    "a_5(2)^5 + a_4(2)^4 + a_3(2)^3 + a_2(2)^2 + a_1(2) + a_0 + 31 = 0\\\\\n",
    "a_5(3)^5 + a_4(3)^4 + a_3(3)^3 + a_2(3)^2 + a_1(3) + a_0 + 33 = 0\\\\\n",
    "\\end{cases}\n",
    "\n",
    "\\begin{cases}\n",
    "–243a_5 + 81a_4 – 27a_3 + 9a_2 – 3a_1 + a_0 − 33 = 0\\\\\n",
    "–32a_5 + 16a_4 – 8a_3 + 4a_2 – 2a_1 + a_0 − 31 = 0\\\\\n",
    "–a_5 + a_4 – a_3 + a_2 – a_1 + a_0 − 18 = 0\\\\\n",
    "a_5 + a_4 + a_3 + a_2 + a_1 + a_0 + 18 = 0\\\\\n",
    "32a_5 + 16a_4 + 8a_3 + 4a_2 + 2a_1 + a_0 + 31 = 0\\\\\n",
    "243a_5 + 81a_4 + 27a_3 + 9a_2 + 3a_1 + a_0 + 33 = 0\\\\\n",
    "\\end{cases}"
   ]
  },
  {
   "cell_type": "code",
   "execution_count": 52,
   "metadata": {},
   "outputs": [],
   "source": [
    "a5, a4, a3, a2, a1, a0 = symbols('a5,a4,a3,a2,a1,a0')"
   ]
  },
  {
   "cell_type": "code",
   "execution_count": 53,
   "metadata": {},
   "outputs": [],
   "source": [
    "eq1 = -243*a5 + 81*a4 - 27*a3 + 9*a2 - 3*a1 + a0 - 33\n",
    "eq2 = -32*a5 + 16*a4 - 8*a3 + 4*a2 - 2*a1 + a0 - 31\n",
    "eq3 = -a5 + a4 - a3 + a2 - a1 + a0 - 18\n",
    "eq4 = a5 + a4 + a3 + a2 + a1 + a0 + 18\n",
    "eq5 = 32*a5 + 16*a4 + 8*a3 + 4*a2 + 2*a1 + a0 + 31\n",
    "eq6 = 243*a5 + 81*a4 + 27*a3 + 9*a2 + 3*a1 + a0 + 33"
   ]
  },
  {
   "cell_type": "code",
   "execution_count": 54,
   "metadata": {},
   "outputs": [
    {
     "data": {
      "image/png": "[encoded data removed]",
      "text/latex": [
       "$\\displaystyle \\left\\{\\left( \\frac{1}{120}, \\  0, \\  \\frac{19}{24}, \\  0, \\  - \\frac{94}{5}, \\  0\\right)\\right\\}$"
      ],
      "text/plain": [
       "            19               \n",
       "{(1/120, 0, --, 0, -94/5, 0)}\n",
       "            24               "
      ]
     },
     "execution_count": 54,
     "metadata": {},
     "output_type": "execute_result"
    }
   ],
   "source": [
    "nonlinsolve([eq1, eq2, eq3, eq4, eq5, eq6], [a5, a4, a3, a2, a1, a0])"
   ]
  },
  {
   "cell_type": "markdown",
   "metadata": {},
   "source": [
    "### 4.2. Checking coefficients"
   ]
  },
  {
   "cell_type": "code",
   "execution_count": 55,
   "metadata": {},
   "outputs": [
    {
     "data": {
      "image/png": "[encoded data removed]",
      "text/latex": [
       "$\\displaystyle 0.00833333333333333 x^{5} + 0.791666666666667 x^{3} - 18.8 x$"
      ],
      "text/plain": [
       "                     5                      3         \n",
       "0.00833333333333333*x  + 0.791666666666667*x  - 18.8*x"
      ]
     },
     "execution_count": 55,
     "metadata": {},
     "output_type": "execute_result"
    }
   ],
   "source": [
    "x = Symbol('x')\n",
    "f = (1/120)*x**5 + (19/24)*x**3 - (94/5)*x\n",
    "f"
   ]
  },
  {
   "cell_type": "code",
   "execution_count": 56,
   "metadata": {},
   "outputs": [
    {
     "data": {
      "image/png": "[encoded data removed]",
      "text/latex": [
       "$\\displaystyle 33.0$"
      ],
      "text/plain": [
       "33.0000000000000"
      ]
     },
     "execution_count": 56,
     "metadata": {},
     "output_type": "execute_result"
    }
   ],
   "source": [
    "f.subs(x, -3)"
   ]
  },
  {
   "cell_type": "code",
   "execution_count": 57,
   "metadata": {},
   "outputs": [
    {
     "data": {
      "image/png": "[encoded data removed]",
      "text/latex": [
       "$\\displaystyle 31.0$"
      ],
      "text/plain": [
       "31.0000000000000"
      ]
     },
     "execution_count": 57,
     "metadata": {},
     "output_type": "execute_result"
    }
   ],
   "source": [
    "f.subs(x, -2)"
   ]
  },
  {
   "cell_type": "code",
   "execution_count": 58,
   "metadata": {},
   "outputs": [
    {
     "data": {
      "image/png": "[encoded data removed]",
      "text/latex": [
       "$\\displaystyle 18.0$"
      ],
      "text/plain": [
       "18.0000000000000"
      ]
     },
     "execution_count": 58,
     "metadata": {},
     "output_type": "execute_result"
    }
   ],
   "source": [
    "f.subs(x, -1)"
   ]
  },
  {
   "cell_type": "code",
   "execution_count": 59,
   "metadata": {},
   "outputs": [
    {
     "data": {
      "image/png": "[encoded data removed]",
      "text/latex": [
       "$\\displaystyle -18.0$"
      ],
      "text/plain": [
       "-18.0000000000000"
      ]
     },
     "execution_count": 59,
     "metadata": {},
     "output_type": "execute_result"
    }
   ],
   "source": [
    "f.subs(x, 1)"
   ]
  },
  {
   "cell_type": "code",
   "execution_count": 60,
   "metadata": {},
   "outputs": [
    {
     "data": {
      "image/png": "[encoded data removed]",
      "text/latex": [
       "$\\displaystyle -31.0$"
      ],
      "text/plain": [
       "-31.0000000000000"
      ]
     },
     "execution_count": 60,
     "metadata": {},
     "output_type": "execute_result"
    }
   ],
   "source": [
    "f.subs(x, 2)"
   ]
  },
  {
   "cell_type": "code",
   "execution_count": 61,
   "metadata": {},
   "outputs": [
    {
     "data": {
      "image/png": "[encoded data removed]",
      "text/latex": [
       "$\\displaystyle -33.0$"
      ],
      "text/plain": [
       "-33.0000000000000"
      ]
     },
     "execution_count": 61,
     "metadata": {},
     "output_type": "execute_result"
    }
   ],
   "source": [
    "f.subs(x, 3)"
   ]
  },
  {
   "cell_type": "markdown",
   "metadata": {},
   "source": [
    "**Result:** the coefficients satisfy the values of the data set."
   ]
  },
  {
   "cell_type": "markdown",
   "metadata": {},
   "source": [
    "### 4.3. Building a graph of a function"
   ]
  },
  {
   "cell_type": "code",
   "execution_count": 62,
   "metadata": {},
   "outputs": [
    {
     "data": {
      "text/plain": [
       "[<matplotlib.lines.Line2D at 0x849db3e610>]"
      ]
     },
     "execution_count": 62,
     "metadata": {},
     "output_type": "execute_result"
    },
    {
     "data": {
      "image/png": "[encoded data removed]",
      "text/plain": [
       "<Figure size 432x288 with 1 Axes>"
      ]
     },
     "metadata": {
      "needs_background": "light"
     },
     "output_type": "display_data"
    }
   ],
   "source": [
    "x_range = np.linspace(-3, 7, num=100)\n",
    "f = lambda x: (1/120)*x**5 + (19/24)*x**3 - (94/5)*x\n",
    "plt.scatter([-3, -2, -1, 1, 2, 3], [33, 31, 18, -18, -31, -33], c='r')\n",
    "plt.axhline(0, color='black')\n",
    "plt.axvline(0, color='black')\n",
    "plt.plot(x_range, f(x_range))"
   ]
  },
  {
   "cell_type": "markdown",
   "metadata": {},
   "source": [
    "### 4.4. Further analysis"
   ]
  },
  {
   "cell_type": "markdown",
   "metadata": {},
   "source": [
    "#### 4.4.1. Zero of a function"
   ]
  },
  {
   "cell_type": "code",
   "execution_count": 64,
   "metadata": {},
   "outputs": [
    {
     "data": {
      "image/png": "[encoded data removed]",
      "text/latex": [
       "$\\displaystyle \\left[ -4.43545751638198, \\  0.0, \\  4.43545751638198, \\  - 10.7085612189327 i, \\  10.7085612189327 i\\right]$"
      ],
      "text/plain": [
       "[-4.43545751638198, 0.0, 4.43545751638198, -10.7085612189327*I, 10.7085612189327*I]"
      ]
     },
     "execution_count": 64,
     "metadata": {},
     "output_type": "execute_result"
    }
   ],
   "source": [
    "f = (1/120)*x**5 + (19/24)*x**3 - (94/5)*x\n",
    "solve(f)"
   ]
  },
  {
   "cell_type": "markdown",
   "metadata": {},
   "source": [
    "#### 2.4.2. Result for x = 0"
   ]
  },
  {
   "cell_type": "code",
   "execution_count": 65,
   "metadata": {},
   "outputs": [
    {
     "data": {
      "image/png": "[encoded data removed]",
      "text/latex": [
       "$\\displaystyle 0$"
      ],
      "text/plain": [
       "0"
      ]
     },
     "execution_count": 65,
     "metadata": {},
     "output_type": "execute_result"
    }
   ],
   "source": [
    "f.subs(x, 0)"
   ]
  },
  {
   "cell_type": "markdown",
   "metadata": {},
   "source": [
    "#### 2.4.3. Constancy intervals"
   ]
  },
  {
   "cell_type": "code",
   "execution_count": 66,
   "metadata": {},
   "outputs": [
    {
     "data": {
      "image/png": "[encoded data removed]",
      "text/latex": [
       "$\\displaystyle \\left(-4.43545751638198 < x \\wedge x < 0\\right) \\vee \\left(4.43545751638198 < x \\wedge x < \\infty\\right)$"
      ],
      "text/plain": [
       "Or(And(-4.43545751638198 < x, x < 0), And(4.43545751638198 < x, x < oo))"
      ]
     },
     "execution_count": 66,
     "metadata": {},
     "output_type": "execute_result"
    }
   ],
   "source": [
    "solve_univariate_inequality(f>0, x)"
   ]
  },
  {
   "cell_type": "code",
   "execution_count": 67,
   "metadata": {},
   "outputs": [
    {
     "data": {
      "image/png": "[encoded data removed]",
      "text/latex": [
       "$\\displaystyle \\left(-\\infty < x \\wedge x < -4.43545751638198\\right) \\vee \\left(0 < x \\wedge x < 4.43545751638198\\right)$"
      ],
      "text/plain": [
       "Or(And(-oo < x, x < -4.43545751638198), And(0 < x, x < 4.43545751638198))"
      ]
     },
     "execution_count": 67,
     "metadata": {},
     "output_type": "execute_result"
    }
   ],
   "source": [
    "solve_univariate_inequality(f<0, x)"
   ]
  },
  {
   "cell_type": "markdown",
   "metadata": {},
   "source": [
    "#### 2.4.4. Even/odd"
   ]
  },
  {
   "cell_type": "code",
   "execution_count": 68,
   "metadata": {},
   "outputs": [
    {
     "data": {
      "image/png": "[encoded data removed]",
      "text/latex": [
       "$\\displaystyle 84123120.0$"
      ],
      "text/plain": [
       "84123120.0000000"
      ]
     },
     "execution_count": 68,
     "metadata": {},
     "output_type": "execute_result"
    }
   ],
   "source": [
    "f.subs(x, 100)"
   ]
  },
  {
   "cell_type": "code",
   "execution_count": 69,
   "metadata": {},
   "outputs": [
    {
     "data": {
      "image/png": "[encoded data removed]",
      "text/latex": [
       "$\\displaystyle -84123120.0$"
      ],
      "text/plain": [
       "-84123120.0000000"
      ]
     },
     "execution_count": 69,
     "metadata": {},
     "output_type": "execute_result"
    }
   ],
   "source": [
    "f.subs(x, -100)"
   ]
  },
  {
   "cell_type": "markdown",
   "metadata": {},
   "source": [
    "**Result:** odd function."
   ]
  },
  {
   "cell_type": "code",
   "execution_count": null,
   "metadata": {},
   "outputs": [],
   "source": []
  }
 ],
 "metadata": {
  "colab": {
   "collapsed_sections": [],
   "name": "Нахождение коэффициентов полиномов аналитически. Практика.ipynb",
   "provenance": []
  },
  "kernelspec": {
   "display_name": "Python 3 (ipykernel)",
   "language": "python",
   "name": "python3"
  },
  "language_info": {
   "codemirror_mode": {
    "name": "ipython",
    "version": 3
   },
   "file_extension": ".py",
   "mimetype": "text/x-python",
   "name": "python",
   "nbconvert_exporter": "python",
   "pygments_lexer": "ipython3",
   "version": "3.9.7"
  }
 },
 "nbformat": 4,
 "nbformat_minor": 1
}

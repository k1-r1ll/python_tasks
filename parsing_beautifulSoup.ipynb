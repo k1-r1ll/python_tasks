{
 "cells": [
  {
   "cell_type": "markdown",
   "id": "58d9d356",
   "metadata": {},
   "source": [
    "# Parsing meme site"
   ]
  },
  {
   "cell_type": "markdown",
   "id": "26dbf35a",
   "metadata": {},
   "source": [
    "1. Import all the necessary libraries."
   ]
  },
  {
   "cell_type": "code",
   "execution_count": 43,
   "id": "ab0f1074",
   "metadata": {},
   "outputs": [],
   "source": [
    "import numpy as np\n",
    "import pandas as pd\n",
    "import time"
   ]
  },
  {
   "cell_type": "code",
   "execution_count": 31,
   "id": "34dc0f5a",
   "metadata": {},
   "outputs": [],
   "source": [
    "from requests import get\n",
    "from fake_useragent import UserAgent\n",
    "from bs4 import BeautifulSoup"
   ]
  },
  {
   "cell_type": "markdown",
   "id": "c99d97a7",
   "metadata": {},
   "source": [
    "2. Creating a function that get a list of meme links from one page"
   ]
  },
  {
   "cell_type": "code",
   "execution_count": 32,
   "id": "a8e2390a",
   "metadata": {},
   "outputs": [],
   "source": [
    "def getPageLinks(page_num):\n",
    "    \n",
    "    page_link = f'https://knowyourmeme.com/page/{page_num}'\n",
    "    response = get(page_link, headers={'User-Agent': UserAgent().chrome})\n",
    "    if not response.ok:\n",
    "        return []\n",
    "    \n",
    "    html = response.content\n",
    "    soup = BeautifulSoup(html, 'html.parser')\n",
    "    \n",
    "    meme_links = soup.find_all('a', {'class': 'newsfeed-title'})\n",
    "    meme_links = ['https://knowyourmeme.com/' + link.get('href') for link in meme_links]\n",
    "    \n",
    "    return meme_links\n",
    "    "
   ]
  },
  {
   "cell_type": "markdown",
   "id": "6722af62",
   "metadata": {},
   "source": [
    "3. Creating a function that gets a statistics data for single meme<br>(views, videos, photos, comments)"
   ]
  },
  {
   "cell_type": "code",
   "execution_count": 33,
   "id": "dc2fd60d",
   "metadata": {},
   "outputs": [],
   "source": [
    "def getStats(soup, stats):\n",
    "    try:\n",
    "        obj = soup.find('dd', attrs={'class': stats})\n",
    "        obj = obj.find('a').text\n",
    "        obj = int(obj.replace(',', ''))\n",
    "    except:\n",
    "        obj=None\n",
    "        \n",
    "    return obj"
   ]
  },
  {
   "cell_type": "markdown",
   "id": "2cd4d196",
   "metadata": {},
   "source": [
    "4. Creating a function that gets properties data for single meme<br>(name, status, type, origin_year, origin place, tags)"
   ]
  },
  {
   "cell_type": "code",
   "execution_count": 34,
   "id": "8b77033b",
   "metadata": {},
   "outputs": [],
   "source": [
    "def getProperties(soup):\n",
    "    \n",
    "    meme_name = soup.find('section', attrs={'class':'info'}).find('h1').text.strip()\n",
    "    \n",
    "    properties = soup.find('aside', attrs={'class':'left'})\n",
    "    meme_status = properties.find('dd')\n",
    "    meme_status = '' if not meme_status else meme_status.text.strip()\n",
    "    \n",
    "    meme_type = properties.find('a', attrs={'class':'entry-type-link'})\n",
    "    meme_type = '' if not meme_type else meme_type.text.strip()\n",
    "    \n",
    "    meme_origin_year = properties.find(text='\\nYear\\n')\n",
    "    meme_origin_year = '' if not meme_origin_year else meme_origin_year.parent.find_next()\n",
    "    meme_origin_year = meme_origin_year.text.strip()\n",
    "    \n",
    "    meme_origin_place = properties.find('dd', attrs={'class':'entry_origin_link'})\n",
    "    meme_origin_place = '' if not meme_origin_place else meme_origin_place.text.strip()\n",
    "    \n",
    "    meme_tags = properties.find('dl', attrs={'id':'entry_tags'}).find('dd')\n",
    "    meme_tags = '' if not meme_tags else meme_tags.text.strip()\n",
    "    \n",
    "    return meme_name, meme_status, meme_type, meme_origin_year, meme_origin_place, meme_tags\n",
    "    "
   ]
  },
  {
   "cell_type": "markdown",
   "id": "d274f651",
   "metadata": {},
   "source": [
    "5. Function for getting all the text elements of the single meme page"
   ]
  },
  {
   "cell_type": "code",
   "execution_count": 35,
   "id": "0d5530fc",
   "metadata": {},
   "outputs": [],
   "source": [
    "def getText(soup):\n",
    "    \n",
    "    body = soup.find('section', attrs={'class':'bodycopy'})\n",
    "    meme_about = body.find('p')\n",
    "    meme_about = '' if not meme_about else meme_about.text\n",
    "    \n",
    "    meme_origin = body.find(text='Origin') or body.find(text='History')\n",
    "    meme_origin = '' if not meme_origin else meme_origin.parent.find_next().text\n",
    "    \n",
    "    if body.text:\n",
    "        other_text = body.text.strip().split('\\n')[4:]\n",
    "        other_text = \" \".join(other_text).strip()\n",
    "    else:\n",
    "        other_text = \"\"\n",
    "    \n",
    "    return meme_about, meme_origin, other_text\n",
    "    "
   ]
  },
  {
   "cell_type": "markdown",
   "id": "7c69f448",
   "metadata": {},
   "source": [
    "6. Combining getStats, getProperties, getText in one function"
   ]
  },
  {
   "cell_type": "code",
   "execution_count": 36,
   "id": "00b03a8b",
   "metadata": {},
   "outputs": [],
   "source": [
    "def getMemeData(meme_page):\n",
    "\n",
    "    response = get(meme_page, headers={'User-Agent': UserAgent().chrome})\n",
    "    \n",
    "    if not response.ok:\n",
    "        return response.status_code\n",
    "    \n",
    "    html = response.content\n",
    "    soup = BeautifulSoup(html,'html.parser')\n",
    "\n",
    "    views = getStats(soup=soup, stats='views')\n",
    "    videos = getStats(soup=soup, stats='videos')\n",
    "    photos = getStats(soup=soup, stats='photos')\n",
    "    comments = getStats(soup=soup, stats='comments')\n",
    "\n",
    "    date = soup.find('abbr', attrs={'class':'timeago'}).attrs['title']\n",
    "\n",
    "    meme_name, meme_status, meme_type, meme_origin_year, meme_origin_place, meme_tags =\\\n",
    "    getProperties(soup=soup)\n",
    "\n",
    "    meme_about, meme_origin, other_text = getText(soup=soup)\n",
    "\n",
    "    data_row = {\"name\":meme_name, \"status\":meme_status, \n",
    "                \"type\":meme_type, \"origin_year\":meme_origin_year, \n",
    "                \"origin_place\":meme_origin_place,\n",
    "                \"date_added\":date, \"views\":views, \n",
    "                \"videos\":videos, \"photos\":photos, \"comments\":comments, \"tags\":meme_tags,\n",
    "                \"about\":meme_about, \"origin\":meme_origin, \"other_text\":other_text}\n",
    "\n",
    "    return data_row"
   ]
  },
  {
   "cell_type": "markdown",
   "id": "f21554d7",
   "metadata": {},
   "source": [
    "7. Checking getMemeData function on a separate meme page"
   ]
  },
  {
   "cell_type": "code",
   "execution_count": 37,
   "id": "18c67271",
   "metadata": {},
   "outputs": [
    {
     "data": {
      "text/plain": [
       "{'name': 'Doge',\n",
       " 'status': 'Confirmed',\n",
       " 'type': 'Animal',\n",
       " 'origin_year': '2010',\n",
       " 'origin_place': 'Tumblr',\n",
       " 'date_added': '2023-04-03T13:44:36-04:00',\n",
       " 'views': 14042165,\n",
       " 'videos': 104,\n",
       " 'photos': 1793,\n",
       " 'comments': 923,\n",
       " 'tags': 'animal, dog, shiba inu, shibe, such doge, super shibe, japanese, tumblr, comic sans, photoshop meme, doges, dogges, reddit, bitcoin, dogecoin, canine, doge meme, atsuko sato, kabosu, doge memes, dogelore, kabosumama',\n",
       " 'about': 'Doge (pronounced /ˈdoʊdʒ/ DOHJ) is a slang term for \"dog\" that is primarily associated with pictures of Shiba Inus (nicknamed \"Shibe\") and internal monologue captions on Tumblr. These photos may be photoshopped to change the dog\\'s face or captioned with interior monologues in Comic Sans font. The primary meme and iconography associated with Doge is the Shiba Inu named Kabosu, whose photos taken by her owner Atsuko Sato in early 2010 went viral across the internet, spawning numerous memes and larger trends in the following decades. Starting in 2017, Ironic Doge formats gained prevalence over the original wholesome version as the memetic character continued to evolve.',\n",
       " 'origin': 'The use of the misspelled word \"doge\" to refer to a dog dates back to June 24th, 2005, when it was mentioned in an episode of Homestar Runner\\'s puppet show. In the episode titled \"Biz Cas Fri 1\"[2], Homestar calls Strong Bad his \"d-o-g-e\" while trying to distract him from his work.',\n",
       " 'other_text': 'Identity On February 13th, 2010, Japanese kindergarten teacher Atsuko Sato posted several photos of her rescue-adopted Shiba Inu dog Kabosu to her personal blog.[38] Among the photos included a peculiar shot of Kabosu sitting on a couch while glaring sideways at the camera with raised eyebrows (shown below, right).      In December 2013, shortly after the breakout of \"Doge,\" the tech news site The Verge[39] published an article identifying Sato\\'s Kabosu as the original Shiba Inu depicted in the meme. In addition to Kabosu, The Verge also identified \"Suki,\" a Shiba Inu who lives with San Francisco-based photographer Jonathan Fleming, as the scarfed dog portrayed in another popular instance of the meme. Spread On October 28th, 2010, a photo of Kabosu was submitted to the /r/Ads subreddit[3] with the title \"LMBO LOOK @ THIS FUKKIN DOGE,\" where it received 266 upvotes, 218 points overall and 48 comments prior to being archived. Sometime in April 2012, Tumblr user leonsumbitches[15] uploaded an audio file of a computer reading a passage written like the commands of a turn-based adventure game about encountering a \"doge.\" The passage was paired with a photo of a woman patting a dog on the head[16] and has gained more than 33,000 notes as of July 2013.  http://dailydoge.tumblr.com/post/21839788086/leonsumbitches-you-have-encountered-ａ-ｄｏｇｅ   In response, the single-topic blog Your Daily Doge[17] was created but was quickly abandoned after reblogging leonsumbitches\\' post several times. On May 7th, YouTuber KwandaoRen66 uploaded a video with a person reading the text over a fake Pokemon battle.[4] By June, doge threads in which numerous people shared photos of dogs in different outfits began appearing on 4chan boards, including /v/[11] (Video Games). The same month, a photoset of a dog with a cup and saucer balanced on his head went viral on Tumblr after airpi[14] referred to it as \"Polite Doge.\" In August, the first doge single-topic blog, Fuck Yeah Doge[13], launched on Tumblr. The growth in the summer of 2012 coincided with the popularity of the single topic Tumblr Shiba Confessions, as people began to refer to these dogs as \"shibes.\"[18]      In December 2012, the term \"doge\" appeared on Reddit in a post submitted to /r/DogsIWannaHug.[6] The same month, an interior monologue captioned photo of a Schnauzer was submitted to Cheezburger[5] with the title \"Schnauze.\" On January 8th, 2013, the subreddit /r/Doge[7] was created, sharing photos and videos of the captioned Shiba Inus.[8] In May, /r/dailydoge[9] was created to share one dog photo a day, captioned or not. Another single-topic blog, shibe-doge[12], launched in July 2013 dedicated to sharing Shiba Inu photos. On July 29th, 2013, a doge thread[19] was sticky-featured at the top of the 4chan board /s4s/ (Shit 4chan Says), garnering more than 600 replies.    On November 20, 2013, YouTube implemented an Easter egg, that changes the text to be colored and in Comic Sans, much like the original internal-monologue style captions, when a user searches the phrase \"doge meme\".[22] On Tumblr, in addition to the captioned photos, the \"doge\" tag[10] often contains images of a Shiba Inu whose facial features have been manipulated, similar to Starecat. 4chan\\'s /r/Murica Raid On the evening of August 26th, 2013, a group of users on 4chan raided against Reddit\\'s tongue-in-cheek patriotic forum /r/Murica[20], flooding the subreddit\\'s frontpage with dozens of photoshopped images depicting the Doge character in All-American-themed settings (shown below). According to The Daily Dot\\'s report[21], the raid started late Sunday night and lasted until about 12:15 p.m. (ET) on August 27th, at which point /r/Murica\\'s moderators began removing Doge-related posts from the subreddit index. Unlike previous clashes between the users of 4chan and Reddit, the sudden influx of Doge images was reportedly met by little opposition from Reddit\\'s user base, reflecting the growing popularity of the character outside of Tumblr.      Trademark Controversy On June 24th, 2014, the California-based gaming accessory company filed to trademark \"Doge\" with the United States patent office to sell card boxes and playing card covers with Kabosu\\'s likeness on the front. On June 23rd, The Daily Dot[41] published an article about the trademark filing, which included a statement from Ultra PRO General Manager Jay Kuo who claimed the trademark was filed to protect the company from being sued and that they would allow \"royalty-free use for any vendor who wishes to use the mark.\" The article also contained a statement by the Intellectual Property Director at the Electronic Frontier Foundation Corynne McSherry, who noted that the filing is problematic because it attempts to trademark the entire word, not just a stylized version of it.[40] Death Hoax On March 31st, 2017, the Twitter account @CCTV reported that the Shiba Inu, Doge, had died at age 16.[42] The tweet received more than 8,400 retweets and 13,100 likes.    However, the tweet was an April Fools\\' Day prank. According to Kabosu\\'s official Instagram account, @kabosumama, doge is alive and well. @Kabosumama posted a video of the dog (shown below), which received more than 4,600 likes and 22,600 views.[43]    The post also contained the caption:  \"Kabosu is OK, she is alive! I don\\'t care that somebody told the lie that Kabosu is dead for April Fools\\' Day, but one important thing for me is \" Kabosu is a girl\", she is a female dog.\"  Dogecoin On December 6th, BitcoinTalk forum member Dogecoin introduced an alternative cryptocurrency based on the meme as a satire of the Bitcoin boom in a thread[23] titled \"Dogecoin – very currency – many coin – wow – v1.1 Released.\" Similar to Bitcoin and its derivatives, Dogecoin can be mined and exchanged for goods and services among the participants, though it is programmed to level out at a higher threshold of up to 100 billion coins and prevent any use of special bitcoin-mining equipment like ASICs. In comparison, Bitcoin will cap out at 21 million coins and Litecoin will support up to 84 million coins in circulation.      Following the launch of the official website,[24] a slew of social media channels and referential webpages soon emerged for Dogecoin, including a Twitter account[25] and a Facebook page,[26] racking up more than 1,000 followers and 1,800 likes within the first week, respectively. On December 8th, an entire subreddit community dedicated to the use of satirical cryptocurrency was launched at /r/dogecoin,[29] accruing more than 2,600 subscribers in just over a week.      Throughout the first weekend of December, Dogecoin was highlighted by a number of tech news sites and blogs, providing a further boost to the value of the satirical currency.[35][36][37] By December 14th, an encyclopedic article[27] describing the concept of \"Dogecoin\" had been submitted by Wikipedia editor CitationNeeded. At its peak, the estimated value of DogeCoin skyrocketed to as high as $400.80 per coin (shown below).[28][31]  As of December 15th, one Dogecoin (DOGE) is worth about $ 0.0002 USD, with a market capitalization of $1.45 million USD and 7.2% of the 100 billion total coins having been mined.[30][32][33][34]  Political Examples Several Republican politicians have highlighted Doge-style image macros on their Twitter feeds. On December 23rd, 2013, Congressional Representatives Steve Stockman and Thomas Massie posted political Doge image macros (shown below).     On June 9th, 2014, the official Republican National Committee Twitter feed posted a Doge image macro mocking Bill and Hillary Clinton. The same day, the official Democratic Party Twitter feed replied to the tweet mocking the use of Doge as being \"as dated as your policies\" (shown below).     Ironic Doge Memes Ironic Doge Memes are memes that feature the Doge meme in strange or surreal circumstances. Many take the form of image macros and often feature edits to the Doge image for the purposes of dark or absurd humor. The format was popularized on deep iFunny and Facebook between 2016 and 2017 and reached mainstream popularity in 2018, gaining prevalence over the original wholesome format.      Atsuko Sato and Kabosu Interview On February 20th, 2020, Japanese nursery teacher Atsuko Sato, the owner of Kabosu (Doge\\'s real name), conducted an interview with Know Your Meme to learn more about the origins of the meme and other details. Sato told KYM that Kabosu, 14 years old at the time, was a rescue dog when she adopted her from a kill shelter years before the meme.  Kabosu\\'s breeder went out of business, and she was rescued by an animal welfare organization after being brought to an animal welfare center to be put down, along with 19 other Shiba Inu. Most of the Shiba Inu that were brought there with her were killed. Two years had passed since I lost my previous dog, and I wanted to live with a dog again. I looked at the information about the new arrivals that had just been advertised as looking for foster parents on the website and found out about Kabosu. Sixteen days after being brought to the animal welfare center, she became a member of my family.     2021 Doge NFT Auction In mid-June 2021, the photographs taken of Kabosu by Atsuko Sato that later became the Doge meme were auctioned off as a series of NFTs. On June 11th following the conclusion of the auction, the Doge NFT sold for roughly $4.06 million (1696.9 ETH), setting the record for the highest meme NFT auction ever.  After the historic sale, Atsuko Sato donated a significant portion of the money to various charities, which included Plan International, Terra Renaissance, Florence, the Japanese Red Cross, World Food Program, Ashi Naga and Japan Heart.[44]  As Kabosu became a meme people love so much, I came to believe that Kabosu was given a special mission by the universe. Through the launch of these NFTs, I\\'d like to help children in need all over the world. Kabosu and I would be very happy if we could help bring a smile to their face.  Doge / Kabosu Cancer Diagnosis On December 27th, 2022, Atsuko Sato announced on her Instagram[45] account @kabosumama that Kabosu (Doge) had been diagnosed with \"acute cholangiohepatitis and chronic lymphoma leukemia,\" noting that she was in declining health but on medication to assist her recovery (seen below). The news of Kabosu\\'s cancer rapidly spread online shortly after, leading to an outpouring of support around the web.               View this post on Instagram                      A post shared by かぼすママ (@kabosumama)    In the following weeks and months, Sato continued sharing updates on Kabosu\\'s health as she slowly began to recover somewhat, according to her Instagram. For example, on February 9th, 2023, Sato said in an Instagram video that Kabosu was eating more food lately and doing therapy as part of her treatment, among other things (seen below).               View this post on Instagram                      A post shared by かぼすママ (@kabosumama)    On February 22nd, 2023, Atsuko Sato then posted another update on Kabosu\\'s status and shared images of her latest blood test results to her Instagram,[46] which noted that it was \"an incredible recovery\" as she thanked fans for their support. Related Memes Wew Lad Wew Lad is an obfuscatory expression associated with circle jerking or shitposting, which is often accompanied by a poorly-drawn illustration of a man\\'s face known as the \"Wrinkle Face\" or a digitally altered picture of the Doge Shiba Inu.    Cheems Cheems is an Ironic Doge character popular on /r/dogelore. His real name is Balltze, or Ball Ball. In memes, he is known for liking cheeseburgers, which he pronounces, \"Cheemsburbger.\" Memes featuring Cheems are usually based upon the character humorously misspelling various words, particularly by including extra M letters and first appeared on /r/dogelore in June 2019.  Swole Doge Swole Doge, also known as Chad Doge refers to a popular edit of Doge that imagines the character having an extremely muscular human body. The edit gained significant popularity in memes in major Doge meme pages on Facebook, Instagram and Reddit starting in July 2019.  Swole Doge vs. Cheems Swole Doge vs. Cheems refers to a comparison format in which representatives of the same group from two historical eras are presented as Swole (Chad) Doge and Cheems and are compared to each other, similar to Virgin vs. Chad. Originating from a viral Facebook meme, the format gained popularity on Reddit and Facebook starting in mid-May 2020.  Dogelore Dogelore is a subreddit dedicated exclusively to memes about Doge and related dog characters within the so-called \"Doge lore\" such as Walter, Perro, Cheems, Swole Doge and others. Created by /r/OKBR founder Kirbizia in 2018, the subreddit accumulated over 200,000 subscribers in two years and is one of the major hubs of Doge memes online.  Various Examples         Search Interest Editors Note: Search interest for the word \"doge\"[1] is partially inconsistent as it is also a Venetian term for \"leader\" used as a title in some Italian \"crowned republics\" including Genoa and Venice.     Meme Trends External References  [1] Wikipedia – Doge [2] Homestar Runner Wiki – Biz Caz Fri 1 [3] Reddit – /r/ads: LMBO LOOK @ THIS FUKKEN DOGE  [4] YouTube – You have encountered A D O G E [5] Cheezburger – schnauze / 12/08/2012 [6] Reddit – /r/dogsiwannahug: Hugging precious doge / 12/24/2012 [7] Reddit – /r/doge / 01/08/2013 [8] Reddit – /r/trees: Snope Doge / 01/17/2013 [9] Reddit – /r/dailydoge 05/16/2013 [10] Tumblr – Posts tagged \"doge\" [11] Foolz Archive – Meet Doge / 06/16/2012 [12] Tumblr – shibe-doge web archive [13] Tumblr – fuckyeahdoge [14] Tumblr – airpi: A POLITE DOGE has approached you 06/24/2012 [15] Tumblr (via Wayback Machine) – leonsumbitches [16] Your Daily Doge – Reblog of leonsumbitches\\' Post [17] Tumblr – Your Daily Doge [18] Tumblr – Posts Tagged \"shibe\" [19] 4chan – /s4s/: le sticky doge [20] Reddit – /r/Murica – Murica! Fuck Yeah! [21] The Daily Dot – 4chan spammed Reddit with an army of Shiba Inus [22] Google Operating System – YouTube Easter Egg for Doge Meme [23] Bitcoin Talk Forum – [ANN][DOGE] Dogecoin – very currency – many coin – wow – v1.1 Released [24] Dogecoin.com – Dogecoin [25] Twitter – @Dogecoin\\'s Tweets [26] Facebook – Dogecoin [27] Wikipedia – Dogecoin [28] Doge Coin Official Forum – Topic: How many Dogecoins have you guys dug? [29] Reddit – /r/dogecoin [30] Coin Marketcap – DogeCoin 30-Day Market Cap Graph [31] Doge Coin Official Forum – [INFO] Current Average Value of DOGE [32] Slashgear – Dogecoin digital currency takes on Bitcoin with a bit of meme flair [33] Geek.com (via Wayback Machine) – Dogecoin: Not a viable alternative to Bitcoin, but possibly the best invention on the internet [34] Geekosystem (now The MarySue) – Dogecoin, A Cryptocurrency For Doges, Is Now A Thing [35] Dogecoin Forum (via Wayback Machine) – Dogewallet hacked! [36] The Verge – Millions of Dogecoin stolen in Christmas hack [37] Reddit – Dogewallet Explanation [38] Exblog – Kabosu112 [39] The Verge – Wow this Doge [40] United States Patent and Trademark Office – Doge [41] The Daily Dot – Doge Trademark Ultra PRO [42] Twitter – RIP, Doge! Shiba Inu who inspired popular Internet memes died in Japan aged 16 [43] Instagram – Kabosu is OK [44] Doge NFT Auction – Charities [45] Instagram – kabosumama [46] Instagram – kabosumama'}"
      ]
     },
     "execution_count": 37,
     "metadata": {},
     "output_type": "execute_result"
    }
   ],
   "source": [
    "data_row = getMemeData('http://knowyourmeme.com/memes/doge')\n",
    "data_row"
   ]
  },
  {
   "cell_type": "markdown",
   "id": "0d52e63b",
   "metadata": {},
   "source": [
    "Let’s add received data in a dataframe."
   ]
  },
  {
   "cell_type": "code",
   "execution_count": 38,
   "id": "ea65a388",
   "metadata": {},
   "outputs": [],
   "source": [
    "final_df = pd.DataFrame(columns=['name', 'status', 'type', 'origin_year', 'origin_place',\n",
    "                                 'date_added', 'views', 'videos', 'photos', 'comments', \n",
    "                                 'tags', 'about', 'origin', 'other_text'])"
   ]
  },
  {
   "cell_type": "code",
   "execution_count": 39,
   "id": "985261fb",
   "metadata": {},
   "outputs": [],
   "source": [
    "final_df = final_df.append(data_row, ignore_index=True)"
   ]
  },
  {
   "cell_type": "code",
   "execution_count": 40,
   "id": "33fca43b",
   "metadata": {
    "scrolled": true
   },
   "outputs": [
    {
     "data": {
      "text/html": [
       "<div>\n",
       "<style scoped>\n",
       "    .dataframe tbody tr th:only-of-type {\n",
       "        vertical-align: middle;\n",
       "    }\n",
       "\n",
       "    .dataframe tbody tr th {\n",
       "        vertical-align: top;\n",
       "    }\n",
       "\n",
       "    .dataframe thead th {\n",
       "        text-align: right;\n",
       "    }\n",
       "</style>\n",
       "<table border=\"1\" class=\"dataframe\">\n",
       "  <thead>\n",
       "    <tr style=\"text-align: right;\">\n",
       "      <th></th>\n",
       "      <th>name</th>\n",
       "      <th>status</th>\n",
       "      <th>type</th>\n",
       "      <th>origin_year</th>\n",
       "      <th>origin_place</th>\n",
       "      <th>date_added</th>\n",
       "      <th>views</th>\n",
       "      <th>videos</th>\n",
       "      <th>photos</th>\n",
       "      <th>comments</th>\n",
       "      <th>tags</th>\n",
       "      <th>about</th>\n",
       "      <th>origin</th>\n",
       "      <th>other_text</th>\n",
       "    </tr>\n",
       "  </thead>\n",
       "  <tbody>\n",
       "    <tr>\n",
       "      <th>0</th>\n",
       "      <td>Doge</td>\n",
       "      <td>Confirmed</td>\n",
       "      <td>Animal</td>\n",
       "      <td>2010</td>\n",
       "      <td>Tumblr</td>\n",
       "      <td>2023-04-03T13:44:36-04:00</td>\n",
       "      <td>14042165</td>\n",
       "      <td>104</td>\n",
       "      <td>1793</td>\n",
       "      <td>923</td>\n",
       "      <td>animal, dog, shiba inu, shibe, such doge, supe...</td>\n",
       "      <td>Doge (pronounced /ˈdoʊdʒ/ DOHJ) is a slang ter...</td>\n",
       "      <td>The use of the misspelled word \"doge\" to refer...</td>\n",
       "      <td>Identity On February 13th, 2010, Japanese kind...</td>\n",
       "    </tr>\n",
       "  </tbody>\n",
       "</table>\n",
       "</div>"
      ],
      "text/plain": [
       "   name     status    type origin_year origin_place  \\\n",
       "0  Doge  Confirmed  Animal        2010       Tumblr   \n",
       "\n",
       "                  date_added     views videos photos comments  \\\n",
       "0  2023-04-03T13:44:36-04:00  14042165    104   1793      923   \n",
       "\n",
       "                                                tags  \\\n",
       "0  animal, dog, shiba inu, shibe, such doge, supe...   \n",
       "\n",
       "                                               about  \\\n",
       "0  Doge (pronounced /ˈdoʊdʒ/ DOHJ) is a slang ter...   \n",
       "\n",
       "                                              origin  \\\n",
       "0  The use of the misspelled word \"doge\" to refer...   \n",
       "\n",
       "                                          other_text  \n",
       "0  Identity On February 13th, 2010, Japanese kind...  "
      ]
     },
     "execution_count": 40,
     "metadata": {},
     "output_type": "execute_result"
    }
   ],
   "source": [
    "final_df"
   ]
  },
  {
   "cell_type": "markdown",
   "id": "d968fbc6",
   "metadata": {},
   "source": [
    "Now we can test getPageLinks and getMemeData functions on several pages,<br>adding an appropriate information to the dataframe."
   ]
  },
  {
   "cell_type": "code",
   "execution_count": 41,
   "id": "4f7f9f94",
   "metadata": {},
   "outputs": [
    {
     "name": "stderr",
     "output_type": "stream",
     "text": [
      "C:\\Users\\Snake\\AppData\\Local\\Temp/ipykernel_5608/1500942414.py:7: TqdmDeprecationWarning: This function will be removed in tqdm==5.0.0\n",
      "Please use `tqdm.notebook.tqdm` instead of `tqdm.tqdm_notebook`\n",
      "  for page_number in tqdm_notebook(range(5), desc='Pages'):\n"
     ]
    },
    {
     "data": {
      "application/vnd.jupyter.widget-view+json": {
       "model_id": "44cef6f4b13741c0bc7ed43386c02af2",
       "version_major": 2,
       "version_minor": 0
      },
      "text/plain": [
       "Pages:   0%|          | 0/5 [00:00<?, ?it/s]"
      ]
     },
     "metadata": {},
     "output_type": "display_data"
    },
    {
     "name": "stderr",
     "output_type": "stream",
     "text": [
      "C:\\Users\\Snake\\AppData\\Local\\Temp/ipykernel_5608/1500942414.py:11: TqdmDeprecationWarning: This function will be removed in tqdm==5.0.0\n",
      "Please use `tqdm.notebook.tqdm` instead of `tqdm.tqdm_notebook`\n",
      "  for meme_link in tqdm_notebook(meme_links, desc='Memes', leave=False):\n"
     ]
    },
    {
     "data": {
      "application/vnd.jupyter.widget-view+json": {
       "model_id": "",
       "version_major": 2,
       "version_minor": 0
      },
      "text/plain": [
       "Memes:   0%|          | 0/5 [00:00<?, ?it/s]"
      ]
     },
     "metadata": {},
     "output_type": "display_data"
    },
    {
     "name": "stdout",
     "output_type": "stream",
     "text": [
      "Warning! Parsing once again: https://knowyourmeme.com//videos/393219-meowsynth\n",
      "Warning! Parsing once again: https://knowyourmeme.com//videos/393219-meowsynth\n",
      "Warning! Parsing once again: https://knowyourmeme.com//videos/393219-meowsynth\n",
      "Warning! Parsing once again: https://knowyourmeme.com//videos/393219-meowsynth\n",
      "Warning! Parsing once again: https://knowyourmeme.com//videos/393219-meowsynth\n"
     ]
    },
    {
     "data": {
      "application/vnd.jupyter.widget-view+json": {
       "model_id": "",
       "version_major": 2,
       "version_minor": 0
      },
      "text/plain": [
       "Memes:   0%|          | 0/5 [00:00<?, ?it/s]"
      ]
     },
     "metadata": {},
     "output_type": "display_data"
    },
    {
     "name": "stdout",
     "output_type": "stream",
     "text": [
      "Warning! Parsing once again: https://knowyourmeme.com//videos/393219-meowsynth\n",
      "Warning! Parsing once again: https://knowyourmeme.com//videos/393219-meowsynth\n",
      "Warning! Parsing once again: https://knowyourmeme.com//videos/393219-meowsynth\n",
      "Warning! Parsing once again: https://knowyourmeme.com//videos/393219-meowsynth\n",
      "Warning! Parsing once again: https://knowyourmeme.com//videos/393219-meowsynth\n"
     ]
    },
    {
     "data": {
      "application/vnd.jupyter.widget-view+json": {
       "model_id": "",
       "version_major": 2,
       "version_minor": 0
      },
      "text/plain": [
       "Memes:   0%|          | 0/5 [00:00<?, ?it/s]"
      ]
     },
     "metadata": {},
     "output_type": "display_data"
    },
    {
     "name": "stdout",
     "output_type": "stream",
     "text": [
      "Warning! Parsing once again: https://knowyourmeme.com//editorials/guides/is-ruby-homophobic-now-the-viral-rwby-meme-explained\n",
      "Warning! Parsing once again: https://knowyourmeme.com//editorials/guides/is-ruby-homophobic-now-the-viral-rwby-meme-explained\n",
      "Warning! Parsing once again: https://knowyourmeme.com//editorials/guides/is-ruby-homophobic-now-the-viral-rwby-meme-explained\n",
      "Warning! Parsing once again: https://knowyourmeme.com//editorials/guides/is-ruby-homophobic-now-the-viral-rwby-meme-explained\n",
      "Warning! Parsing once again: https://knowyourmeme.com//editorials/guides/is-ruby-homophobic-now-the-viral-rwby-meme-explained\n",
      "Warning! Parsing once again: https://knowyourmeme.com//photos/2566280-iceberg-tiers-parodies\n",
      "Warning! Parsing once again: https://knowyourmeme.com//photos/2566280-iceberg-tiers-parodies\n",
      "Warning! Parsing once again: https://knowyourmeme.com//photos/2566280-iceberg-tiers-parodies\n",
      "Warning! Parsing once again: https://knowyourmeme.com//photos/2566280-iceberg-tiers-parodies\n",
      "Warning! Parsing once again: https://knowyourmeme.com//photos/2566280-iceberg-tiers-parodies\n"
     ]
    },
    {
     "data": {
      "application/vnd.jupyter.widget-view+json": {
       "model_id": "",
       "version_major": 2,
       "version_minor": 0
      },
      "text/plain": [
       "Memes:   0%|          | 0/5 [00:00<?, ?it/s]"
      ]
     },
     "metadata": {},
     "output_type": "display_data"
    },
    {
     "name": "stdout",
     "output_type": "stream",
     "text": [
      "Warning! Parsing once again: https://knowyourmeme.com//videos/393268-eno-alaric-tiktok-time-traveler\n",
      "Warning! Parsing once again: https://knowyourmeme.com//videos/393268-eno-alaric-tiktok-time-traveler\n",
      "Warning! Parsing once again: https://knowyourmeme.com//videos/393268-eno-alaric-tiktok-time-traveler\n",
      "Warning! Parsing once again: https://knowyourmeme.com//videos/393268-eno-alaric-tiktok-time-traveler\n",
      "Warning! Parsing once again: https://knowyourmeme.com//videos/393268-eno-alaric-tiktok-time-traveler\n",
      "Warning! Parsing once again: https://knowyourmeme.com//news/conflicting-reports-emerge-about-arrest-of-rebekah-jones-son-as-news-outlets-differ-on-who-sent-school-shooting-threats\n",
      "Warning! Parsing once again: https://knowyourmeme.com//news/conflicting-reports-emerge-about-arrest-of-rebekah-jones-son-as-news-outlets-differ-on-who-sent-school-shooting-threats\n",
      "Warning! Parsing once again: https://knowyourmeme.com//news/conflicting-reports-emerge-about-arrest-of-rebekah-jones-son-as-news-outlets-differ-on-who-sent-school-shooting-threats\n",
      "Warning! Parsing once again: https://knowyourmeme.com//news/conflicting-reports-emerge-about-arrest-of-rebekah-jones-son-as-news-outlets-differ-on-who-sent-school-shooting-threats\n",
      "Warning! Parsing once again: https://knowyourmeme.com//news/conflicting-reports-emerge-about-arrest-of-rebekah-jones-son-as-news-outlets-differ-on-who-sent-school-shooting-threats\n"
     ]
    },
    {
     "data": {
      "application/vnd.jupyter.widget-view+json": {
       "model_id": "",
       "version_major": 2,
       "version_minor": 0
      },
      "text/plain": [
       "Memes:   0%|          | 0/5 [00:00<?, ?it/s]"
      ]
     },
     "metadata": {},
     "output_type": "display_data"
    },
    {
     "name": "stdout",
     "output_type": "stream",
     "text": [
      "Warning! Parsing once again: https://knowyourmeme.com//editorials/guides/who-is-cory-carnley-the-rthe_donald-undocumented-immigrant-classmate-controversy-explained\n",
      "Warning! Parsing once again: https://knowyourmeme.com//editorials/guides/who-is-cory-carnley-the-rthe_donald-undocumented-immigrant-classmate-controversy-explained\n",
      "Warning! Parsing once again: https://knowyourmeme.com//editorials/guides/who-is-cory-carnley-the-rthe_donald-undocumented-immigrant-classmate-controversy-explained\n",
      "Warning! Parsing once again: https://knowyourmeme.com//editorials/guides/who-is-cory-carnley-the-rthe_donald-undocumented-immigrant-classmate-controversy-explained\n",
      "Warning! Parsing once again: https://knowyourmeme.com//editorials/guides/who-is-cory-carnley-the-rthe_donald-undocumented-immigrant-classmate-controversy-explained\n",
      "Warning! Parsing once again: https://knowyourmeme.com//editorials/collections/20-mildly-interesting-images-to-leave-you-a-bit-intrigued\n",
      "Warning! Parsing once again: https://knowyourmeme.com//editorials/collections/20-mildly-interesting-images-to-leave-you-a-bit-intrigued\n",
      "Warning! Parsing once again: https://knowyourmeme.com//editorials/collections/20-mildly-interesting-images-to-leave-you-a-bit-intrigued\n",
      "Warning! Parsing once again: https://knowyourmeme.com//editorials/collections/20-mildly-interesting-images-to-leave-you-a-bit-intrigued\n",
      "Warning! Parsing once again: https://knowyourmeme.com//editorials/collections/20-mildly-interesting-images-to-leave-you-a-bit-intrigued\n",
      "Warning! Parsing once again: https://knowyourmeme.com//photos/2566163-i-will-enjoy-my-weekend-to-the-fullest\n",
      "Warning! Parsing once again: https://knowyourmeme.com//photos/2566163-i-will-enjoy-my-weekend-to-the-fullest\n",
      "Warning! Parsing once again: https://knowyourmeme.com//photos/2566163-i-will-enjoy-my-weekend-to-the-fullest\n",
      "Warning! Parsing once again: https://knowyourmeme.com//photos/2566163-i-will-enjoy-my-weekend-to-the-fullest\n",
      "Warning! Parsing once again: https://knowyourmeme.com//photos/2566163-i-will-enjoy-my-weekend-to-the-fullest\n"
     ]
    }
   ],
   "source": [
    "from tqdm import tqdm_notebook\n",
    "\n",
    "final_df = pd.DataFrame(columns=['name', 'status', 'type', 'origin_year', 'origin_place',\n",
    "                                 'date_added', 'views', 'videos', 'photos', 'comments', \n",
    "                                 'tags', 'about', 'origin', 'other_text'])\n",
    "\n",
    "for page_number in tqdm_notebook(range(5), desc='Pages'):\n",
    "    \n",
    "    meme_links = getPageLinks(page_number)\n",
    "    \n",
    "    for meme_link in tqdm_notebook(meme_links, desc='Memes', leave=False):\n",
    "        \n",
    "        for i in range(5):\n",
    "            try:\n",
    "                data_row = getMemeData(meme_link)\n",
    "                final_df = final_df.append(data_row, ignore_index=True)\n",
    "                break\n",
    "            except:\n",
    "                print('Warning! Parsing once again:', meme_link)\n",
    "                continue\n"
   ]
  },
  {
   "cell_type": "code",
   "execution_count": 42,
   "id": "db8949b8",
   "metadata": {},
   "outputs": [
    {
     "data": {
      "text/html": [
       "<div>\n",
       "<style scoped>\n",
       "    .dataframe tbody tr th:only-of-type {\n",
       "        vertical-align: middle;\n",
       "    }\n",
       "\n",
       "    .dataframe tbody tr th {\n",
       "        vertical-align: top;\n",
       "    }\n",
       "\n",
       "    .dataframe thead th {\n",
       "        text-align: right;\n",
       "    }\n",
       "</style>\n",
       "<table border=\"1\" class=\"dataframe\">\n",
       "  <thead>\n",
       "    <tr style=\"text-align: right;\">\n",
       "      <th></th>\n",
       "      <th>name</th>\n",
       "      <th>status</th>\n",
       "      <th>type</th>\n",
       "      <th>origin_year</th>\n",
       "      <th>origin_place</th>\n",
       "      <th>date_added</th>\n",
       "      <th>views</th>\n",
       "      <th>videos</th>\n",
       "      <th>photos</th>\n",
       "      <th>comments</th>\n",
       "      <th>tags</th>\n",
       "      <th>about</th>\n",
       "      <th>origin</th>\n",
       "      <th>other_text</th>\n",
       "    </tr>\n",
       "  </thead>\n",
       "  <tbody>\n",
       "    <tr>\n",
       "      <th>0</th>\n",
       "      <td>Florp</td>\n",
       "      <td>Submission</td>\n",
       "      <td>Character</td>\n",
       "      <td>2022</td>\n",
       "      <td>Ultrakill</td>\n",
       "      <td>2023-04-07T16:48:40-04:00</td>\n",
       "      <td>128</td>\n",
       "      <td>1</td>\n",
       "      <td>11</td>\n",
       "      <td>0</td>\n",
       "      <td>unltrakill, ultrakill meme, hampter, hampter u...</td>\n",
       "      <td>Florp is an easter egg item inspired by the ha...</td>\n",
       "      <td>Florp would not appear in Ultrakill until an u...</td>\n",
       "      <td>On August 16th, 2022, Ultrakill update 11 was ...</td>\n",
       "    </tr>\n",
       "    <tr>\n",
       "      <th>1</th>\n",
       "      <td>Little People Match Cuts</td>\n",
       "      <td>Submission</td>\n",
       "      <td>Parody</td>\n",
       "      <td>2021</td>\n",
       "      <td>TikTok</td>\n",
       "      <td>2023-04-07T17:22:46-04:00</td>\n",
       "      <td>54</td>\n",
       "      <td>17</td>\n",
       "      <td>0</td>\n",
       "      <td>0</td>\n",
       "      <td>match cut, little people, little person, dwarf...</td>\n",
       "      <td>Little People Match Cuts refers to videos of p...</td>\n",
       "      <td>While the exact origin of the trend is unknown...</td>\n",
       "      <td>https://www.tiktok.com/embed/v2/69269944062727...</td>\n",
       "    </tr>\n",
       "    <tr>\n",
       "      <th>2</th>\n",
       "      <td>Old Filter (TikTok)</td>\n",
       "      <td>Submission</td>\n",
       "      <td>Participatory Media</td>\n",
       "      <td>2023</td>\n",
       "      <td>TikTok</td>\n",
       "      <td>2023-04-07T15:17:11-04:00</td>\n",
       "      <td>22</td>\n",
       "      <td>3</td>\n",
       "      <td>0</td>\n",
       "      <td>0</td>\n",
       "      <td>old filter, tiktok old filter, old face filter...</td>\n",
       "      <td>The Old Filter (TikTok), also known as the Coo...</td>\n",
       "      <td>On April 5th, 2023, TikToker[1] @thatgirlfromw...</td>\n",
       "      <td>@thatgirlfromwork Brb breaking up with him  ♬ ...</td>\n",
       "    </tr>\n",
       "    <tr>\n",
       "      <th>3</th>\n",
       "      <td>2023 FIFA World Cup U-20 Indonesia Cancellation</td>\n",
       "      <td>Submission</td>\n",
       "      <td>Competition</td>\n",
       "      <td>2023</td>\n",
       "      <td>FIFA</td>\n",
       "      <td>2023-04-07T08:30:02-04:00</td>\n",
       "      <td>167</td>\n",
       "      <td>0</td>\n",
       "      <td>2</td>\n",
       "      <td>0</td>\n",
       "      <td>fifa, football, world cup, u-20, under 20, ind...</td>\n",
       "      <td>2023 FIFA World Cup U-20 Indonesia Cancellatio...</td>\n",
       "      <td></td>\n",
       "      <td>FIFA removes Indonesia as host of FIFA U-20 Wo...</td>\n",
       "    </tr>\n",
       "    <tr>\n",
       "      <th>4</th>\n",
       "      <td>Florp</td>\n",
       "      <td>Submission</td>\n",
       "      <td>Character</td>\n",
       "      <td>2022</td>\n",
       "      <td>Ultrakill</td>\n",
       "      <td>2023-04-07T16:48:40-04:00</td>\n",
       "      <td>127</td>\n",
       "      <td>1</td>\n",
       "      <td>11</td>\n",
       "      <td>0</td>\n",
       "      <td>unltrakill, ultrakill meme, hampter, hampter u...</td>\n",
       "      <td>Florp is an easter egg item inspired by the ha...</td>\n",
       "      <td>Florp would not appear in Ultrakill until an u...</td>\n",
       "      <td>On August 16th, 2022, Ultrakill update 11 was ...</td>\n",
       "    </tr>\n",
       "  </tbody>\n",
       "</table>\n",
       "</div>"
      ],
      "text/plain": [
       "                                              name      status  \\\n",
       "0                                            Florp  Submission   \n",
       "1                         Little People Match Cuts  Submission   \n",
       "2                              Old Filter (TikTok)  Submission   \n",
       "3  2023 FIFA World Cup U-20 Indonesia Cancellation  Submission   \n",
       "4                                            Florp  Submission   \n",
       "\n",
       "                  type origin_year origin_place                 date_added  \\\n",
       "0            Character        2022    Ultrakill  2023-04-07T16:48:40-04:00   \n",
       "1               Parody        2021       TikTok  2023-04-07T17:22:46-04:00   \n",
       "2  Participatory Media        2023       TikTok  2023-04-07T15:17:11-04:00   \n",
       "3          Competition        2023         FIFA  2023-04-07T08:30:02-04:00   \n",
       "4            Character        2022    Ultrakill  2023-04-07T16:48:40-04:00   \n",
       "\n",
       "  views videos photos comments  \\\n",
       "0   128      1     11        0   \n",
       "1    54     17      0        0   \n",
       "2    22      3      0        0   \n",
       "3   167      0      2        0   \n",
       "4   127      1     11        0   \n",
       "\n",
       "                                                tags  \\\n",
       "0  unltrakill, ultrakill meme, hampter, hampter u...   \n",
       "1  match cut, little people, little person, dwarf...   \n",
       "2  old filter, tiktok old filter, old face filter...   \n",
       "3  fifa, football, world cup, u-20, under 20, ind...   \n",
       "4  unltrakill, ultrakill meme, hampter, hampter u...   \n",
       "\n",
       "                                               about  \\\n",
       "0  Florp is an easter egg item inspired by the ha...   \n",
       "1  Little People Match Cuts refers to videos of p...   \n",
       "2  The Old Filter (TikTok), also known as the Coo...   \n",
       "3  2023 FIFA World Cup U-20 Indonesia Cancellatio...   \n",
       "4  Florp is an easter egg item inspired by the ha...   \n",
       "\n",
       "                                              origin  \\\n",
       "0  Florp would not appear in Ultrakill until an u...   \n",
       "1  While the exact origin of the trend is unknown...   \n",
       "2  On April 5th, 2023, TikToker[1] @thatgirlfromw...   \n",
       "3                                                      \n",
       "4  Florp would not appear in Ultrakill until an u...   \n",
       "\n",
       "                                          other_text  \n",
       "0  On August 16th, 2022, Ultrakill update 11 was ...  \n",
       "1  https://www.tiktok.com/embed/v2/69269944062727...  \n",
       "2  @thatgirlfromwork Brb breaking up with him  ♬ ...  \n",
       "3  FIFA removes Indonesia as host of FIFA U-20 Wo...  \n",
       "4  On August 16th, 2022, Ultrakill update 11 was ...  "
      ]
     },
     "execution_count": 42,
     "metadata": {},
     "output_type": "execute_result"
    }
   ],
   "source": [
    "final_df.head()"
   ]
  }
 ],
 "metadata": {
  "kernelspec": {
   "display_name": "Python 3 (ipykernel)",
   "language": "python",
   "name": "python3"
  },
  "language_info": {
   "codemirror_mode": {
    "name": "ipython",
    "version": 3
   },
   "file_extension": ".py",
   "mimetype": "text/x-python",
   "name": "python",
   "nbconvert_exporter": "python",
   "pygments_lexer": "ipython3",
   "version": "3.9.7"
  }
 },
 "nbformat": 4,
 "nbformat_minor": 5
}

{
 "cells": [
  {
   "cell_type": "markdown",
   "metadata": {
    "id": "uBCo6ukdfrIs"
   },
   "source": [
    "# Purchase funnel\n",
    "\n",
    "**Main task:** to analyse a click stream file; analyse data of payment confirmation page.\n",
    "\n",
    "1. The first step is to open the file and count all the page types entries. We formatted it as a dictionary ‘result’.\n"
   ]
  },
  {
   "cell_type": "code",
   "execution_count": 24,
   "metadata": {},
   "outputs": [],
   "source": [
    "import csv\n",
    "\n",
    "file_path = r'C:\\Books\\result\\data\\click_stream1.csv'\n",
    "result = dict()\n",
    "\n",
    "with open(file_path, mode='r') as csv_file:\n",
    "    csv_reader = csv.DictReader(csv_file, fieldnames=['ID','page','date'])\n",
    "    for row in csv_reader:\n",
    "        page = list(row.items())[1][1]\n",
    "        result[page] = result.get(page, 0) + 1\n"
   ]
  },
  {
   "cell_type": "markdown",
   "metadata": {},
   "source": [
    "2. As we can see, home page visited *90,400* potential clients. But only *452* not only visited payment page, but actually bought something. It will be *0.5%* of the basic customer amount. So the main problem should be localised: **we should find a page level where activity is decreasing.**"
   ]
  },
  {
   "cell_type": "code",
   "execution_count": 52,
   "metadata": {},
   "outputs": [
    {
     "name": "stdout",
     "output_type": "stream",
     "text": [
      "1_home_page: 90400\n",
      "2_search_page: 45200\n",
      "3_payment_page: 6030\n",
      "4_payment_confirmation_page: 452\n",
      "\n",
      "Overall payment confirmation rate: 0.5\n"
     ]
    }
   ],
   "source": [
    "for key, value in result.items():\n",
    "    print(f'{key}:', value)\n",
    "\n",
    "print()\n",
    "print('Overall payment confirmation rate:', (result['4_payment_confirmation_page'] / result['1_home_page']) * 100)\n"
   ]
  },
  {
   "cell_type": "markdown",
   "metadata": {},
   "source": [
    "3. First of all, we checked click stream according to the every month in the file. There were four month (from January till April). All the data is sorted and displayed below. As we can see, some global changes happend in February: click stream reduced in nearly 5,000 items for the search page. It also continued in March."
   ]
  },
  {
   "cell_type": "code",
   "execution_count": 53,
   "metadata": {},
   "outputs": [],
   "source": [
    "result_month = dict()\n",
    "\n",
    "with open(file_path, mode='r') as csv_file:\n",
    "    csv_reader_2 = csv.DictReader(csv_file, fieldnames=['ID','page','date'])\n",
    "    for row in csv_reader_2:\n",
    "        month = row['date'].split('-')[1]\n",
    "        if month not in result_month:\n",
    "            result_month[month] = dict()\n",
    "        page = row['page']\n",
    "        result_month[month][page] = result_month[month].get(page, 0) + 1\n",
    "            "
   ]
  },
  {
   "cell_type": "code",
   "execution_count": 57,
   "metadata": {},
   "outputs": [
    {
     "name": "stdout",
     "output_type": "stream",
     "text": [
      "01\n",
      "{'1_home_page': 22600, '2_search_page': 13554, '3_payment_page': 2390, '4_payment_confirmation_page': 189}\n",
      "02\n",
      "{'1_home_page': 22600, '2_search_page': 13687, '3_payment_page': 2412, '4_payment_confirmation_page': 173}\n",
      "03\n",
      "{'1_home_page': 22600, '2_search_page': 8879, '3_payment_page': 631, '4_payment_confirmation_page': 44}\n",
      "04\n",
      "{'1_home_page': 22600, '2_search_page': 9080, '3_payment_page': 597, '4_payment_confirmation_page': 46}\n"
     ]
    }
   ],
   "source": [
    "for key, value in sorted(result_month.items()):\n",
    "    print(key, value, sep='\\n')\n"
   ]
  },
  {
   "cell_type": "markdown",
   "metadata": {},
   "source": [
    "4. The confirmation rate reduced as fourth times as it was in the first month."
   ]
  },
  {
   "cell_type": "code",
   "execution_count": 60,
   "metadata": {},
   "outputs": [
    {
     "name": "stdout",
     "output_type": "stream",
     "text": [
      "Month: 01; confirmation rate: 0.84%\n",
      "Month: 02; confirmation rate: 0.77%\n",
      "Month: 03; confirmation rate: 0.19%\n",
      "Month: 04; confirmation rate: 0.2%\n"
     ]
    }
   ],
   "source": [
    "for key in sorted(result_month.keys()):\n",
    "    confirmation = round(result_month[key]['4_payment_confirmation_page'] / result_month[key]['1_home_page'] * 100, 2)\n",
    "    print(f'Month: {key}; confirmation rate: {confirmation}%')\n"
   ]
  },
  {
   "cell_type": "markdown",
   "metadata": {},
   "source": [
    "5. To clarify, that the problem was with the whole page system we also checked payment and confirmation pages cpmparing to the search page. Here the search page stands for the 100% of the visitors. The result repeats: main changes are clear in March, which influenced all the following data. So the problem is global."
   ]
  },
  {
   "cell_type": "code",
   "execution_count": 58,
   "metadata": {},
   "outputs": [
    {
     "name": "stdout",
     "output_type": "stream",
     "text": [
      "Month: 01; payment rate: 17.63%\n",
      "Month: 01; confirmation rate: 1.39%\n",
      "\n",
      "Month: 02; payment rate: 17.62%\n",
      "Month: 02; confirmation rate: 1.26%\n",
      "\n",
      "Month: 03; payment rate: 7.11%\n",
      "Month: 03; confirmation rate: 0.5%\n",
      "\n",
      "Month: 04; payment rate: 6.57%\n",
      "Month: 04; confirmation rate: 0.51%\n",
      "\n"
     ]
    }
   ],
   "source": [
    "for key in sorted(result_month.keys()):\n",
    "    month_payment = round(result_month[key]['3_payment_page'] / result_month[key]['2_search_page'] * 100, 2)\n",
    "    print(f'Month: {key}; payment rate: {month_payment}%')\n",
    "    \n",
    "    confirmation = round(result_month[key]['4_payment_confirmation_page'] / result_month[key]['2_search_page'] * 100, 2)\n",
    "    print(f'Month: {key}; confirmation rate: {confirmation}%', end='\\n\\n')\n",
    "    "
   ]
  },
  {
   "cell_type": "markdown",
   "metadata": {},
   "source": [
    "6. To understand the problem we used cleack stream file with device data: some of the user visited pages with mobile devices and some from the desktop ones."
   ]
  },
  {
   "cell_type": "code",
   "execution_count": 60,
   "metadata": {},
   "outputs": [],
   "source": [
    "result_desktop = dict()\n",
    "result_mobile = dict()\n",
    "file_path_2 = r'C:\\Books\\result\\data\\click_stream2.csv'\n",
    "\n",
    "with open(file_path_2, 'r') as csv_file_2:\n",
    "    csv_reader_3 = csv.DictReader(csv_file_2, fieldnames=['ID','page','date','device'])\n",
    "    for row in csv_reader_3:\n",
    "        month = row['date'].split('-')[1]\n",
    "        page = row['page']\n",
    "        if row['device'] == 'Desktop':\n",
    "            if month not in result_desktop:\n",
    "                result_desktop[month] = dict()\n",
    "            result_desktop[month][page] = result_desktop[month].get(page, 0) + 1\n",
    "        else:\n",
    "            if month not in result_mobile:\n",
    "                result_mobile[month] = dict()\n",
    "            result_mobile[month][page] = result_mobile[month].get(page, 0) + 1\n"
   ]
  },
  {
   "cell_type": "markdown",
   "metadata": {},
   "source": [
    "7. We saw that the problem depends on optimisation of the website for each device type. For desktop devices it starts from the payment page, and for mobile ones – from search page. So the further work required frontend/backend code check, and the problem is not only with confirmation page."
   ]
  },
  {
   "cell_type": "code",
   "execution_count": 64,
   "metadata": {},
   "outputs": [
    {
     "name": "stdout",
     "output_type": "stream",
     "text": [
      "Desktop device data\n",
      "\n",
      "01\n",
      "{'1_home_page': 15050, '2_search_page': 7529, '3_payment_page': 1221, '4_payment_confirmation_page': 60}\n",
      "02\n",
      "{'1_home_page': 15050, '2_search_page': 7632, '3_payment_page': 1191, '4_payment_confirmation_page': 54}\n",
      "03\n",
      "{'1_home_page': 15050, '2_search_page': 7370, '3_payment_page': 296, '4_payment_confirmation_page': 14}\n",
      "04\n",
      "{'1_home_page': 15050, '2_search_page': 7569, '3_payment_page': 302, '4_payment_confirmation_page': 22}\n"
     ]
    }
   ],
   "source": [
    "print('Desktop device data', end='\\n\\n')\n",
    "for key, value in sorted(result_desktop.items()):\n",
    "    print(key, value, sep='\\n')\n"
   ]
  },
  {
   "cell_type": "code",
   "execution_count": 65,
   "metadata": {},
   "outputs": [
    {
     "name": "stdout",
     "output_type": "stream",
     "text": [
      "Mobile device data\n",
      "\n",
      "01\n",
      "{'1_home_page': 7550, '2_search_page': 6025, '3_payment_page': 1169, '4_payment_confirmation_page': 129}\n",
      "02\n",
      "{'1_home_page': 7550, '2_search_page': 6055, '3_payment_page': 1221, '4_payment_confirmation_page': 119}\n",
      "03\n",
      "{'1_home_page': 7550, '2_search_page': 1509, '3_payment_page': 335, '4_payment_confirmation_page': 30}\n",
      "04\n",
      "{'1_home_page': 7550, '2_search_page': 1511, '3_payment_page': 295, '4_payment_confirmation_page': 24}\n"
     ]
    }
   ],
   "source": [
    "print('Mobile device data', end='\\n\\n')\n",
    "for key, value in sorted(result_mobile.items()):\n",
    "    print(key, value, sep='\\n')\n",
    "    "
   ]
  },
  {
   "cell_type": "markdown",
   "metadata": {},
   "source": [
    "# Conclusion\n",
    "\n",
    "We achieved the following goals during the analysis:\n",
    "\n",
    "1. Analysed click stream files.\n",
    "2. Noticed the main activity problem.\n",
    "3. Localised the activity problem with purchase funnel according to the time periods.\n",
    "4. Localised the activity problem according to the device types.\n",
    "5. Noticed, that the payment confirmation problem is not the main issue – payment page is broken for desktop devices and search page is broken for mobile devices.\n",
    "5. Suggested the further check steps.\n"
   ]
  }
 ],
 "metadata": {
  "colab": {
   "collapsed_sections": [],
   "name": "Код для загрузки данных из файла.ipynb",
   "private_outputs": true,
   "provenance": []
  },
  "kernelspec": {
   "display_name": "Python 3 (ipykernel)",
   "language": "python",
   "name": "python3"
  },
  "language_info": {
   "codemirror_mode": {
    "name": "ipython",
    "version": 3
   },
   "file_extension": ".py",
   "mimetype": "text/x-python",
   "name": "python",
   "nbconvert_exporter": "python",
   "pygments_lexer": "ipython3",
   "version": "3.9.7"
  }
 },
 "nbformat": 4,
 "nbformat_minor": 1
}
